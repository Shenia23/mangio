{
 "cells": [
  {
   "cell_type": "code",
   "execution_count": 12,
   "metadata": {},
   "outputs": [],
   "source": [
    "import pandas as pd\n",
    "\n",
    "nutritional_values = pd.read_csv(\"../data/nutritional_values.csv\")\n",
    "recipes = pd.read_csv(\"../data/filtered_recipes_100.csv\", sep=\"|\")\n",
    "ingredients = pd.read_csv(\"../data/ingredients_100.csv\")\n",
    "\n",
    "DINNER_CAT = ['Cena']\n",
    "FOOD_CAT = ['Plato principal','Entrante','Acompñamiento']\n",
    "SNACK_CAT = ['Merienda','Cumpleaños','Postre']\n",
    "BREAKFAST_CAT = ['Desayuno']"
   ]
  },
  {
   "cell_type": "code",
   "execution_count": 6,
   "metadata": {},
   "outputs": [],
   "source": [
    "def get_food_percentage(tdee):\n",
    "    \n",
    "    breakfast = tdee * 0.2\n",
    "    snack_1   = tdee * 0.1\n",
    "    lunch     = tdee * 0.3\n",
    "    snack_2   = tdee * 0.2\n",
    "    dinner    = tdee * 0.2\n",
    "    \n",
    "    return breakfast, snack_1, lunch, snack_2, dinner"
   ]
  },
  {
   "cell_type": "code",
   "execution_count": 3,
   "metadata": {},
   "outputs": [],
   "source": [
    "tdee_sample = 2500\n",
    "objective = 1 # mantain"
   ]
  },
  {
   "cell_type": "code",
   "execution_count": 7,
   "metadata": {},
   "outputs": [],
   "source": [
    "breakfast, snack_1, lunch, snack_2, dinner = get_food_percentage(tdee_sample)"
   ]
  },
  {
   "cell_type": "code",
   "execution_count": 8,
   "metadata": {},
   "outputs": [
    {
     "name": "stdout",
     "output_type": "stream",
     "text": [
      "500.0 250.0 750.0 500.0 500.0\n"
     ]
    }
   ],
   "source": [
    "print(breakfast, snack_1, lunch, snack_2, dinner)"
   ]
  },
  {
   "cell_type": "code",
   "execution_count": null,
   "metadata": {},
   "outputs": [],
   "source": [
    "def get_breakfast():\n",
    "    \n",
    "\n",
    "def get_snack_1():\n",
    "    \n",
    "def get_lunch():\n",
    "    \n",
    "def get_snack_2():\n",
    "    \n",
    "def dinner():\n",
    "    "
   ]
  }
 ],
 "metadata": {
  "kernelspec": {
   "display_name": "Python 3",
   "language": "python",
   "name": "python3"
  },
  "language_info": {
   "codemirror_mode": {
    "name": "ipython",
    "version": 3
   },
   "file_extension": ".py",
   "mimetype": "text/x-python",
   "name": "python",
   "nbconvert_exporter": "python",
   "pygments_lexer": "ipython3",
   "version": "3.8.3"
  }
 },
 "nbformat": 4,
 "nbformat_minor": 4
}
