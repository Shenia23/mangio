{
 "cells": [
  {
   "cell_type": "code",
   "execution_count": 8,
   "metadata": {},
   "outputs": [
    {
     "output_type": "stream",
     "name": "stdout",
     "text": [
      "Collecting pattern3\n",
      "  Using cached pattern3-3.0.0-py2.py3-none-any.whl\n",
      "Requirement already satisfied: pdfminer.six in /usr/local/lib/python3.9/site-packages (from pattern3) (20201018)\n",
      "Requirement already satisfied: docx in /usr/local/lib/python3.9/site-packages (from pattern3) (0.2.4)\n",
      "Requirement already satisfied: simplejson in /usr/local/lib/python3.9/site-packages (from pattern3) (3.17.2)\n",
      "Requirement already satisfied: cherrypy in /usr/local/lib/python3.9/site-packages (from pattern3) (18.6.0)\n",
      "Requirement already satisfied: feedparser in /usr/local/lib/python3.9/site-packages (from pattern3) (6.0.2)\n",
      "Requirement already satisfied: beautifulsoup4 in /usr/local/lib/python3.9/site-packages (from pattern3) (4.9.3)\n",
      "Requirement already satisfied: pdfminer3k in /usr/local/lib/python3.9/site-packages (from pattern3) (1.3.4)\n",
      "Requirement already satisfied: soupsieve>1.2 in /usr/local/lib/python3.9/site-packages (from beautifulsoup4->pattern3) (2.2)\n",
      "Requirement already satisfied: portend>=2.1.1 in /usr/local/lib/python3.9/site-packages (from cherrypy->pattern3) (2.7.1)\n",
      "Requirement already satisfied: zc.lockfile in /usr/local/lib/python3.9/site-packages (from cherrypy->pattern3) (2.0)\n",
      "Requirement already satisfied: more-itertools in /usr/local/lib/python3.9/site-packages (from cherrypy->pattern3) (8.7.0)\n",
      "Requirement already satisfied: cheroot>=8.2.1 in /usr/local/lib/python3.9/site-packages (from cherrypy->pattern3) (8.5.2)\n",
      "Requirement already satisfied: jaraco.collections in /usr/local/lib/python3.9/site-packages (from cherrypy->pattern3) (3.2.0)\n",
      "Requirement already satisfied: six>=1.11.0 in /usr/local/Cellar/protobuf/3.15.8/libexec/lib/python3.9/site-packages (from cheroot>=8.2.1->cherrypy->pattern3) (1.15.0)\n",
      "Requirement already satisfied: jaraco.functools in /usr/local/lib/python3.9/site-packages (from cheroot>=8.2.1->cherrypy->pattern3) (3.2.1)\n",
      "Requirement already satisfied: tempora>=1.8 in /usr/local/lib/python3.9/site-packages (from portend>=2.1.1->cherrypy->pattern3) (4.0.1)\n",
      "Requirement already satisfied: pytz in /usr/local/lib/python3.9/site-packages (from tempora>=1.8->portend>=2.1.1->cherrypy->pattern3) (2021.1)\n",
      "Requirement already satisfied: lxml in /usr/local/lib/python3.9/site-packages (from docx->pattern3) (4.5.0)\n",
      "Requirement already satisfied: Pillow>=2.0 in /usr/local/lib/python3.9/site-packages (from docx->pattern3) (6.2.2)\n",
      "Requirement already satisfied: sgmllib3k in /usr/local/lib/python3.9/site-packages (from feedparser->pattern3) (1.0.0)\n",
      "Requirement already satisfied: jaraco.text in /usr/local/lib/python3.9/site-packages (from jaraco.collections->cherrypy->pattern3) (3.5.0)\n",
      "Requirement already satisfied: jaraco.classes in /usr/local/lib/python3.9/site-packages (from jaraco.collections->cherrypy->pattern3) (3.2.1)\n",
      "Requirement already satisfied: sortedcontainers in /usr/local/lib/python3.9/site-packages (from pdfminer.six->pattern3) (2.3.0)\n",
      "Requirement already satisfied: chardet in /usr/local/lib/python3.9/site-packages (from pdfminer.six->pattern3) (4.0.0)\n",
      "Requirement already satisfied: cryptography in /usr/local/lib/python3.9/site-packages (from pdfminer.six->pattern3) (3.3.1)\n",
      "Requirement already satisfied: cffi>=1.12 in /usr/local/lib/python3.9/site-packages (from cryptography->pdfminer.six->pattern3) (1.14.4)\n",
      "Requirement already satisfied: pycparser in /usr/local/lib/python3.9/site-packages (from cffi>=1.12->cryptography->pdfminer.six->pattern3) (2.20)\n",
      "Requirement already satisfied: ply in /usr/local/lib/python3.9/site-packages (from pdfminer3k->pattern3) (3.11)\n",
      "Requirement already satisfied: setuptools in /usr/local/lib/python3.9/site-packages (from zc.lockfile->cherrypy->pattern3) (54.2.0)\n",
      "Installing collected packages: pattern3\n",
      "Successfully installed pattern3-3.0.0\n",
      "\u001b[33mWARNING: You are using pip version 21.0.1; however, version 21.1 is available.\n",
      "You should consider upgrading via the '/usr/local/opt/python@3.9/bin/python3.9 -m pip install --upgrade pip' command.\u001b[0m\n"
     ]
    }
   ],
   "source": [
    "!pip3 install pattern3"
   ]
  },
  {
   "cell_type": "code",
   "execution_count": 4,
   "metadata": {},
   "outputs": [
    {
     "output_type": "error",
     "ename": "ModuleNotFoundError",
     "evalue": "No module named 'pattern'",
     "traceback": [
      "\u001b[0;31m---------------------------------------------------------------------------\u001b[0m",
      "\u001b[0;31mModuleNotFoundError\u001b[0m                       Traceback (most recent call last)",
      "\u001b[0;32m<ipython-input-4-13c75b91332c>\u001b[0m in \u001b[0;36m<module>\u001b[0;34m\u001b[0m\n\u001b[1;32m      1\u001b[0m \u001b[0;32mimport\u001b[0m \u001b[0mpandas\u001b[0m \u001b[0;32mas\u001b[0m \u001b[0mpd\u001b[0m\u001b[0;34m\u001b[0m\u001b[0;34m\u001b[0m\u001b[0m\n\u001b[0;32m----> 2\u001b[0;31m \u001b[0;32mimport\u001b[0m \u001b[0mpattern\u001b[0m \u001b[0;32mas\u001b[0m \u001b[0mes\u001b[0m\u001b[0;34m\u001b[0m\u001b[0;34m\u001b[0m\u001b[0m\n\u001b[0m\u001b[1;32m      3\u001b[0m \u001b[0;32mimport\u001b[0m \u001b[0mnltk\u001b[0m\u001b[0;34m\u001b[0m\u001b[0;34m\u001b[0m\u001b[0m\n\u001b[1;32m      4\u001b[0m \u001b[0;32mfrom\u001b[0m \u001b[0mnltk\u001b[0m\u001b[0;34m.\u001b[0m\u001b[0mstem\u001b[0m \u001b[0;32mimport\u001b[0m \u001b[0mWordNetLemmatizer\u001b[0m\u001b[0;34m\u001b[0m\u001b[0;34m\u001b[0m\u001b[0m\n\u001b[1;32m      5\u001b[0m \u001b[0;32mimport\u001b[0m \u001b[0mre\u001b[0m\u001b[0;34m\u001b[0m\u001b[0;34m\u001b[0m\u001b[0m\n",
      "\u001b[0;31mModuleNotFoundError\u001b[0m: No module named 'pattern'"
     ]
    }
   ],
   "source": [
    "import pandas as pd\n",
    "import pattern as es\n",
    "import nltk\n",
    "from nltk.stem import WordNetLemmatizer\n",
    "import re\n",
    "import numpy as np\n",
    "import os\n",
    "import sys\n",
    "module_path = os.path.abspath(os.path.join('../..'))\n",
    "if module_path not in sys.path:\n",
    "    sys.path.append(module_path)\n",
    "    \n",
    "from app.data_processing.utils import measure_average_rate\n",
    "from app.data_processing.utils import filter_ingredient_100\n",
    "from app.data_processing.utils import extract_ingredients_to_csv\n",
    "from app.data_processing.weight_filler import fill_grams, append_category\n",
    "from app.data_processing.weight_filler import drop_evaluation\n",
    "\n",
    "\n",
    "def nutri_value_extractor(ingredients):\n",
    "    '''\n",
    "    :param ingredients: df of recipes\n",
    "    \n",
    "    :return nutritional_values: df of nutritional values of each recipe\n",
    "    '''\n",
    "    join = pd.merge(ingredients, bedca, left_on=\"Indice\", right_on='indice')\n",
    "    join[bedca_columns] = join[bedca_columns].multiply(join['Total_Grams']/100, axis='index')\n",
    "    bedca_columns.append('Recipe_id')\n",
    "    bedca_columns.append('Total_Grams')\n",
    "    nutritional_values = join[bedca_columns].groupby('Recipe_id').sum().round(6)\n",
    "\n",
    "    return nutritional_values\n",
    "\n",
    "bedca = pd.read_csv('../../data/bedca.csv',index_col=0)\n",
    "recipes = pd.read_csv('../../data/filtered_recipes.csv', sep='|')\n",
    "recipes_for_demonstration = pd.read_csv('../../data/ingredient_filtering_demonstration.csv', sep='|')"
   ]
  },
  {
   "cell_type": "code",
   "execution_count": null,
   "metadata": {},
   "outputs": [],
   "source": []
  }
 ],
 "metadata": {
  "kernelspec": {
   "name": "python383jvsc74a57bd0dca0ade3e726a953b501b15e8e990130d2b7799f14cfd9f4271676035ebe5511",
   "display_name": "Python 3.8.3 64-bit ('base': conda)"
  },
  "language_info": {
   "codemirror_mode": {
    "name": "ipython",
    "version": 3
   },
   "file_extension": ".py",
   "mimetype": "text/x-python",
   "name": "python",
   "nbconvert_exporter": "python",
   "pygments_lexer": "ipython3",
   "version": "3.8.3"
  }
 },
 "nbformat": 4,
 "nbformat_minor": 4
}