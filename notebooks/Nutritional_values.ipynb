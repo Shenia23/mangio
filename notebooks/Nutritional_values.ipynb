{
 "cells": [
  {
   "cell_type": "code",
   "execution_count": null,
   "id": "surface-buyer",
   "metadata": {},
   "outputs": [],
   "source": [
    "import os\n",
    "import sys\n",
    "module_path = os.path.abspath(os.path.join('..'))\n",
    "if module_path not in sys.path:\n",
    "    sys.path.append(module_path)"
   ]
  },
  {
   "cell_type": "code",
   "execution_count": 140,
   "id": "manual-cuisine",
   "metadata": {},
   "outputs": [],
   "source": [
    "import pandas as pd\n",
    "from app.data_processing.utils import *\n",
    "from app.data_processing.equivalences import equivalences"
   ]
  },
  {
   "cell_type": "code",
   "execution_count": 10,
   "id": "proud-checkout",
   "metadata": {},
   "outputs": [],
   "source": [
    "testing_recipes = [74146, 73727, 74020 , 73919, 73818, 73799,73756, 73360, 73314, 73269, 72692, 72311, 72126,66092, 65997, 71629]"
   ]
  },
  {
   "cell_type": "code",
   "execution_count": 56,
   "id": "previous-living",
   "metadata": {},
   "outputs": [],
   "source": [
    "def flatten(list_of_lists):\n",
    "    return [item for list in list_of_lists for item in list]"
   ]
  },
  {
   "cell_type": "code",
   "execution_count": 20,
   "id": "immune-concert",
   "metadata": {},
   "outputs": [],
   "source": [
    "df = pd.read_csv('data/output.csv', sep='|')\n",
    "recipes = df[[\"Id\",\"Ingredientes\"]].copy()\n",
    "recipes = recipes[recipes['Id'].isin(testing_recipes)]"
   ]
  },
  {
   "cell_type": "code",
   "execution_count": 338,
   "id": "pregnant-numbers",
   "metadata": {},
   "outputs": [],
   "source": [
    "ingredients = pd.read_csv('data/bedca.csv',index_col=0)\n",
    "ingredients_names = ingredients[\"nombre\"].tolist()\n",
    "ingredients['Id'] = ingredients.index"
   ]
  },
  {
   "cell_type": "code",
   "execution_count": 116,
   "id": "smart-saver",
   "metadata": {},
   "outputs": [],
   "source": [
    "all_ingredients = ingredients_to_plural(ingredients_names)  # ingredientes originales + plurales\n",
    "bedca_ingredients = [x.lower() for x in all_ingredients]\n",
    "recipes.reset_index(drop=True, inplace=True)"
   ]
  },
  {
   "cell_type": "code",
   "execution_count": 232,
   "id": "associate-neighbor",
   "metadata": {},
   "outputs": [],
   "source": [
    "ing = recipes['Ingredientes'].iloc[0]"
   ]
  },
  {
   "cell_type": "code",
   "execution_count": 233,
   "id": "extra-runner",
   "metadata": {},
   "outputs": [],
   "source": [
    "parsed_ingredients, rate, total, extracted = parse_ingredient_string(ing, bedca_ingredients)"
   ]
  },
  {
   "cell_type": "code",
   "execution_count": 242,
   "id": "framed-conviction",
   "metadata": {},
   "outputs": [],
   "source": [
    "def remove_list(row):\n",
    "    if isinstance(row,list):\n",
    "        row = row[0]\n",
    "    return row"
   ]
  },
  {
   "cell_type": "code",
   "execution_count": 259,
   "id": "several-astronomy",
   "metadata": {},
   "outputs": [
    {
     "data": {
      "text/html": [
       "<div>\n",
       "<style scoped>\n",
       "    .dataframe tbody tr th:only-of-type {\n",
       "        vertical-align: middle;\n",
       "    }\n",
       "\n",
       "    .dataframe tbody tr th {\n",
       "        vertical-align: top;\n",
       "    }\n",
       "\n",
       "    .dataframe thead th {\n",
       "        text-align: right;\n",
       "    }\n",
       "</style>\n",
       "<table border=\"1\" class=\"dataframe\">\n",
       "  <thead>\n",
       "    <tr style=\"text-align: right;\">\n",
       "      <th></th>\n",
       "      <th>Ingrediente</th>\n",
       "      <th>Cantidad</th>\n",
       "      <th>Unidad</th>\n",
       "      <th>Indice</th>\n",
       "    </tr>\n",
       "  </thead>\n",
       "  <tbody>\n",
       "    <tr>\n",
       "      <th>0</th>\n",
       "      <td>pollo</td>\n",
       "      <td>1.0</td>\n",
       "      <td>pechuga</td>\n",
       "      <td>243</td>\n",
       "    </tr>\n",
       "    <tr>\n",
       "      <th>2</th>\n",
       "      <td>mantequilla</td>\n",
       "      <td>150.0</td>\n",
       "      <td>gramos</td>\n",
       "      <td>419</td>\n",
       "    </tr>\n",
       "    <tr>\n",
       "      <th>5</th>\n",
       "      <td>leche</td>\n",
       "      <td>2.0</td>\n",
       "      <td>vasos</td>\n",
       "      <td>22</td>\n",
       "    </tr>\n",
       "    <tr>\n",
       "      <th>6</th>\n",
       "      <td>pan rallado</td>\n",
       "      <td>1.0</td>\n",
       "      <td>tarro</td>\n",
       "      <td>507</td>\n",
       "    </tr>\n",
       "    <tr>\n",
       "      <th>7</th>\n",
       "      <td>sal</td>\n",
       "      <td>1.0</td>\n",
       "      <td>pellizco</td>\n",
       "      <td>907</td>\n",
       "    </tr>\n",
       "    <tr>\n",
       "      <th>8</th>\n",
       "      <td>harina</td>\n",
       "      <td>3.0</td>\n",
       "      <td>cucharadas soperas</td>\n",
       "      <td>483</td>\n",
       "    </tr>\n",
       "    <tr>\n",
       "      <th>9</th>\n",
       "      <td>aceite de girasol</td>\n",
       "      <td>2.0</td>\n",
       "      <td>vasos</td>\n",
       "      <td>404</td>\n",
       "    </tr>\n",
       "  </tbody>\n",
       "</table>\n",
       "</div>"
      ],
      "text/plain": [
       "         Ingrediente  Cantidad              Unidad  Indice\n",
       "0              pollo       1.0             pechuga     243\n",
       "2        mantequilla     150.0              gramos     419\n",
       "5              leche       2.0               vasos      22\n",
       "6        pan rallado       1.0               tarro     507\n",
       "7                sal       1.0            pellizco     907\n",
       "8             harina       3.0  cucharadas soperas     483\n",
       "9  aceite de girasol       2.0               vasos     404"
      ]
     },
     "execution_count": 259,
     "metadata": {},
     "output_type": "execute_result"
    }
   ],
   "source": [
    "test = pd.DataFrame(parsed_ingredients)\n",
    "test = test.drop([1,3,4,10])\n",
    "test['Cantidad'] = test['Cantidad'].apply(remove_list)\n",
    "test['Cantidad'] = test['Cantidad'].astype(float)\n",
    "test['Ingrediente'] = test['Ingrediente'].apply(remove_list)\n",
    "test['Unidad'] = test['Unidad'].apply(remove_list)\n",
    "\n",
    "test['Indice'] = [243,419,22,507,907,483,404]\n",
    "\n",
    "test\n"
   ]
  },
  {
   "cell_type": "code",
   "execution_count": 260,
   "id": "authorized-application",
   "metadata": {},
   "outputs": [],
   "source": [
    "def get_grams(row):\n",
    "    row = equivalences[row] \n",
    "    return row"
   ]
  },
  {
   "cell_type": "code",
   "execution_count": 261,
   "id": "protected-roller",
   "metadata": {},
   "outputs": [],
   "source": [
    "test['Grams'] = test['Unidad'].apply(get_grams)\n",
    "test['Total_Grams'] = test['Grams'] * test['Cantidad']"
   ]
  },
  {
   "cell_type": "code",
   "execution_count": 263,
   "id": "herbal-plaza",
   "metadata": {},
   "outputs": [
    {
     "data": {
      "text/html": [
       "<div>\n",
       "<style scoped>\n",
       "    .dataframe tbody tr th:only-of-type {\n",
       "        vertical-align: middle;\n",
       "    }\n",
       "\n",
       "    .dataframe tbody tr th {\n",
       "        vertical-align: top;\n",
       "    }\n",
       "\n",
       "    .dataframe thead th {\n",
       "        text-align: right;\n",
       "    }\n",
       "</style>\n",
       "<table border=\"1\" class=\"dataframe\">\n",
       "  <thead>\n",
       "    <tr style=\"text-align: right;\">\n",
       "      <th></th>\n",
       "      <th>Ingrediente</th>\n",
       "      <th>Cantidad</th>\n",
       "      <th>Unidad</th>\n",
       "      <th>Indice</th>\n",
       "      <th>Grams</th>\n",
       "      <th>Total_Grams</th>\n",
       "    </tr>\n",
       "  </thead>\n",
       "  <tbody>\n",
       "    <tr>\n",
       "      <th>0</th>\n",
       "      <td>pollo</td>\n",
       "      <td>1.0</td>\n",
       "      <td>pechuga</td>\n",
       "      <td>243</td>\n",
       "      <td>400</td>\n",
       "      <td>400.0</td>\n",
       "    </tr>\n",
       "    <tr>\n",
       "      <th>2</th>\n",
       "      <td>mantequilla</td>\n",
       "      <td>150.0</td>\n",
       "      <td>gramos</td>\n",
       "      <td>419</td>\n",
       "      <td>1</td>\n",
       "      <td>150.0</td>\n",
       "    </tr>\n",
       "    <tr>\n",
       "      <th>5</th>\n",
       "      <td>leche</td>\n",
       "      <td>2.0</td>\n",
       "      <td>vasos</td>\n",
       "      <td>22</td>\n",
       "      <td>250</td>\n",
       "      <td>500.0</td>\n",
       "    </tr>\n",
       "    <tr>\n",
       "      <th>6</th>\n",
       "      <td>pan rallado</td>\n",
       "      <td>1.0</td>\n",
       "      <td>tarro</td>\n",
       "      <td>507</td>\n",
       "      <td>250</td>\n",
       "      <td>250.0</td>\n",
       "    </tr>\n",
       "    <tr>\n",
       "      <th>7</th>\n",
       "      <td>sal</td>\n",
       "      <td>1.0</td>\n",
       "      <td>pellizco</td>\n",
       "      <td>907</td>\n",
       "      <td>1</td>\n",
       "      <td>1.0</td>\n",
       "    </tr>\n",
       "    <tr>\n",
       "      <th>8</th>\n",
       "      <td>harina</td>\n",
       "      <td>3.0</td>\n",
       "      <td>cucharadas soperas</td>\n",
       "      <td>483</td>\n",
       "      <td>17</td>\n",
       "      <td>51.0</td>\n",
       "    </tr>\n",
       "    <tr>\n",
       "      <th>9</th>\n",
       "      <td>aceite de girasol</td>\n",
       "      <td>2.0</td>\n",
       "      <td>vasos</td>\n",
       "      <td>404</td>\n",
       "      <td>250</td>\n",
       "      <td>500.0</td>\n",
       "    </tr>\n",
       "  </tbody>\n",
       "</table>\n",
       "</div>"
      ],
      "text/plain": [
       "         Ingrediente  Cantidad              Unidad  Indice  Grams  Total_Grams\n",
       "0              pollo       1.0             pechuga     243    400        400.0\n",
       "2        mantequilla     150.0              gramos     419      1        150.0\n",
       "5              leche       2.0               vasos      22    250        500.0\n",
       "6        pan rallado       1.0               tarro     507    250        250.0\n",
       "7                sal       1.0            pellizco     907      1          1.0\n",
       "8             harina       3.0  cucharadas soperas     483     17         51.0\n",
       "9  aceite de girasol       2.0               vasos     404    250        500.0"
      ]
     },
     "execution_count": 263,
     "metadata": {},
     "output_type": "execute_result"
    }
   ],
   "source": [
    "test"
   ]
  },
  {
   "cell_type": "code",
   "execution_count": 340,
   "id": "adjacent-register",
   "metadata": {},
   "outputs": [],
   "source": [
    "#macro_columns = ['energía','grasa','proteina','fibra','carbohidratos']\n",
    "categorical_columns = ['nombre','categoria']\n",
    "\n",
    "def extract_recipe_value(ingredients):\n",
    "    '''\n",
    "    :return result_df: df which contains the nutritional values of the total serving \n",
    "    '''\n",
    "    nutri_values = get_df_by_ids(ingredients['Indice']).drop(columns = categorical_columns)\n",
    "    nutri_columns = nutri_values.columns\n",
    "    join = test.join(nutri_values, on = 'Indice')\n",
    "    join[nutri_columns] = join[nutri_columns].multiply(join['Total_Grams']/100, axis='index')\n",
    "    result_df = join[nutri_columns].sum().round(6)\n",
    "    result_df['Gramos'] = join['Total_Grams'].sum()\n",
    "\n",
    "    return result_df\n",
    "    \n",
    "def get_df_by_ids(ids):\n",
    "    ids = [i for i in ids if i != None]\n",
    "    return ingredients[ingredients['Id'].isin(ids)]"
   ]
  },
  {
   "cell_type": "code",
   "execution_count": 341,
   "id": "clear-globe",
   "metadata": {},
   "outputs": [
    {
     "data": {
      "text/plain": [
       "alcohol                                                                           0.000000\n",
       "energía                                                                        6746.220000\n",
       "grasa                                                                           611.062106\n",
       "proteina                                                                        139.690000\n",
       "agua                                                                            901.870000\n",
       "fibra                                                                            13.340000\n",
       "carbohidratos                                                                   184.176000\n",
       "ácido graso 22:6 n-3 (ácido docosahexaenóico)                                     0.000000\n",
       "ácidos grasos, monoinsaturados totales                                          158.318000\n",
       "ácidos grasos, poliinsaturados totales                                          323.699000\n",
       "ácidos grasos saturados totales                                                 118.539700\n",
       "ácido graso 12:0 (láurico)                                                        0.590000\n",
       "ácido graso 14:0 (ácido mirístico)                                                2.305000\n",
       "ácido graso 16:0 (ácido palmítico)                                               37.050000\n",
       "ácido graso 18:0 (ácido esteárico)                                               18.300000\n",
       "ácido graso 18:1 n-9 cis (ácido oléico)                                         143.950000\n",
       "colesterol                                                                        0.461000\n",
       "ácido graso 18:2                                                                288.040000\n",
       "ácido graso 18:3                                                                  8.045000\n",
       "ácido graso 20:4 n-6  (ácido araquidónico)                                        0.030000\n",
       "ácido graso 20:5 (ácido eicosapentaenóico)                                        0.208000\n",
       "Vitamina A equivalentes de retinol de actividades de retinos y carotenoides       0.000995\n",
       "Vitamina D                                                                        0.000018\n",
       "Viamina E equivalentes de alfa tocoferol de actividades de vitámeros E            0.284715\n",
       "folato, total                                                                     0.000124\n",
       "equivalentes de niacina, totales                                                  0.048735\n",
       "riboflavina                                                                       0.001751\n",
       "tiamina                                                                           0.001034\n",
       "Vitamina B-12                                                                     0.000003\n",
       "Vitamina B-6, Total                                                               0.001969\n",
       "Vitamina C (ácido ascórbico)                                                      0.007000\n",
       "calcio                                                                            0.943170\n",
       "hierro, total                                                                     0.013890\n",
       "potasio                                                                           2.365560\n",
       "magnesio                                                                          0.279750\n",
       "sodio                                                                             2.877040\n",
       "fósforo                                                                           1.690810\n",
       "ioduro                                                                            0.000065\n",
       "selenio, total                                                                    0.000106\n",
       "zinc (cinc)                                                                       0.010895\n",
       "Id                                                                             5253.400000\n",
       "Gramos                                                                         1852.000000\n",
       "dtype: float64"
      ]
     },
     "execution_count": 341,
     "metadata": {},
     "output_type": "execute_result"
    }
   ],
   "source": [
    "extract_recipe_value(test)"
   ]
  },
  {
   "cell_type": "code",
   "execution_count": null,
   "id": "biblical-alexandria",
   "metadata": {},
   "outputs": [],
   "source": []
  }
 ],
 "metadata": {
  "kernelspec": {
   "display_name": "Python 3",
   "language": "python",
   "name": "python3"
  },
  "language_info": {
   "codemirror_mode": {
    "name": "ipython",
    "version": 3
   },
   "file_extension": ".py",
   "mimetype": "text/x-python",
   "name": "python",
   "nbconvert_exporter": "python",
   "pygments_lexer": "ipython3",
   "version": "3.9.2"
  }
 },
 "nbformat": 4,
 "nbformat_minor": 5
}
