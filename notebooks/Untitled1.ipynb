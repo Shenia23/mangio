{
 "cells": [
  {
   "cell_type": "code",
   "execution_count": 8,
   "id": "bored-complex",
   "metadata": {},
   "outputs": [],
   "source": [
    "import pandas as pd\n",
    "import numpy as np"
   ]
  },
  {
   "cell_type": "code",
   "execution_count": 9,
   "id": "preliminary-gothic",
   "metadata": {},
   "outputs": [],
   "source": [
    "nvalues = pd.read_csv('../data/nutritional_values.csv')\n",
    "recipes = pd.read_csv('../data/filtered_recipes_100.csv',sep='|')\n",
    "ingredients = pd.read_csv('../data/ingredients_100.csv')"
   ]
  },
  {
   "cell_type": "code",
   "execution_count": 10,
   "id": "spread-removal",
   "metadata": {},
   "outputs": [
    {
     "ename": "SyntaxError",
     "evalue": "invalid syntax (<ipython-input-10-966f222196a4>, line 2)",
     "output_type": "error",
     "traceback": [
      "\u001b[0;36m  File \u001b[0;32m\"<ipython-input-10-966f222196a4>\"\u001b[0;36m, line \u001b[0;32m2\u001b[0m\n\u001b[0;31m    CARBS: {\u001b[0m\n\u001b[0m         ^\u001b[0m\n\u001b[0;31mSyntaxError\u001b[0m\u001b[0;31m:\u001b[0m invalid syntax\n"
     ]
    }
   ],
   "source": [
    "macros = [\n",
    "    CARBS: {\n",
    "        GAIN: [40,60],\n",
    "        MANTAIN: [30,50],\n",
    "        LOSS: [10,30],\n",
    "        \"column\": \"grasa_cals_pctg\"\n",
    "    }\n",
    "    PROTS: {\n",
    "        GAIN: [25,35],\n",
    "        MANTAIN: [25,35],\n",
    "        LOSS: [40,50],\n",
    "        \"column\": \"proteina_cals_pctg\"\n",
    "    }\n",
    "    GRASAS: {\n",
    "        GAIN: [15,25],\n",
    "        MANTAIN: [25,35],\n",
    "        LOSS: [30,40],\n",
    "        \"column\": \"carbos_cals_pctg\"\n",
    "    }\n",
    "]"
   ]
  },
  {
   "cell_type": "code",
   "execution_count": 13,
   "id": "controlling-leisure",
   "metadata": {},
   "outputs": [],
   "source": [
    "\n",
    "BREAKFAST = 'desayuno'\n",
    "LUNCH = 'comida'\n",
    "DINNER = 'cena'\n",
    "SNACK = 'snack'\n",
    "MERIENDA = 'merienda'\n",
    "\n",
    "food_types = [BREAKFAST, LUNCH, DINNER, SNACK, MERIENDA]\n",
    "\n",
    "#OBJECTIVES\n",
    "GAIN = 0\n",
    "MANTAIN = 1\n",
    "LOSS = 2\n",
    "\n",
    "#MACROS\n",
    "CARBS = 'carbohidratos'\n",
    "PROTS = 'proteinas'\n",
    "GRASAS = 'grasas'\n"
   ]
  },
  {
   "cell_type": "code",
   "execution_count": 14,
   "id": "supported-adobe",
   "metadata": {},
   "outputs": [
    {
     "data": {
      "text/plain": [
       "'carbohidratos'"
      ]
     },
     "execution_count": 14,
     "metadata": {},
     "output_type": "execute_result"
    }
   ],
   "source": [
    "CARBS\n"
   ]
  },
  {
   "cell_type": "code",
   "execution_count": 22,
   "id": "photographic-launch",
   "metadata": {},
   "outputs": [],
   "source": [
    "macros = {\n",
    "    CARBS: {\n",
    "        GAIN: [40,60],\n",
    "        MANTAIN: [30,50],\n",
    "        LOSS: [10,30],\n",
    "        \"column\": \"grasa_cals_pctg\"\n",
    "    },\n",
    "    PROTS: {\n",
    "        GAIN: [25,35],\n",
    "        MANTAIN: [25,35],\n",
    "        LOSS: [40,50],\n",
    "        \"column\": \"proteina_cals_pctg\"\n",
    "    },\n",
    "    GRASAS: {\n",
    "        GAIN: [15,25],\n",
    "        MANTAIN: [25,35],\n",
    "        LOSS: [30,40],\n",
    "        \"column\": \"carbos_cals_pctg\"\n",
    "    },\n",
    "    }"
   ]
  },
  {
   "cell_type": "code",
   "execution_count": 30,
   "id": "paperback-architecture",
   "metadata": {},
   "outputs": [
    {
     "name": "stdout",
     "output_type": "stream",
     "text": [
      "grasa_cals_pctg\n",
      "proteina_cals_pctg\n",
      "carbos_cals_pctg\n"
     ]
    }
   ],
   "source": [
    "for v in macros.values():\n",
    "    #print(key, v)\n",
    "    print(v['column'])\n",
    "    "
   ]
  },
  {
   "cell_type": "code",
   "execution_count": null,
   "id": "accurate-fiber",
   "metadata": {},
   "outputs": [],
   "source": []
  }
 ],
 "metadata": {
  "kernelspec": {
   "display_name": "Python 3",
   "language": "python",
   "name": "python3"
  },
  "language_info": {
   "codemirror_mode": {
    "name": "ipython",
    "version": 3
   },
   "file_extension": ".py",
   "mimetype": "text/x-python",
   "name": "python",
   "nbconvert_exporter": "python",
   "pygments_lexer": "ipython3",
   "version": "3.9.2"
  }
 },
 "nbformat": 4,
 "nbformat_minor": 5
}
