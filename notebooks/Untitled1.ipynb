{
 "cells": [
  {
   "cell_type": "code",
   "execution_count": 160,
   "id": "passing-delhi",
   "metadata": {},
   "outputs": [],
   "source": [
    "import pandas as pd\n",
    "import numpy as np"
   ]
  },
  {
   "cell_type": "code",
   "execution_count": 66,
   "id": "chinese-probe",
   "metadata": {},
   "outputs": [],
   "source": [
    "nvalues = pd.read_csv('../data/nutritional_values.csv')\n",
    "recipes = pd.read_csv('../data/output.csv',sep='|')\n",
    "ingredients = pd.read_csv('../data/ingredients_100.csv')"
   ]
  },
  {
   "cell_type": "code",
   "execution_count": 150,
   "id": "blank-bradford",
   "metadata": {},
   "outputs": [],
   "source": [
    "ids = {74146: 'merienda', 19602: 'snack', 58107:'snack', 64737: 'comida', 50719: 'desayuno', 45889: 'cena'}"
   ]
  },
  {
   "cell_type": "code",
   "execution_count": 180,
   "id": "specified-space",
   "metadata": {},
   "outputs": [],
   "source": [
    "wanted_columns = ['Id','Categoria','Nombre','Dificultad','Tipo']\n",
    "macros = ['energia','grasa','proteina','fibra','carbohidratos','Recipe_id']"
   ]
  },
  {
   "cell_type": "code",
   "execution_count": 181,
   "id": "graduate-psychology",
   "metadata": {},
   "outputs": [],
   "source": [
    "recom = recipes[recipes.Id.isin(ids)].replace(np.nan,None)\n",
    "ing = ingredients[ingredients['Recipe_id'].isin(ids)].replace(np.nan,None)"
   ]
  },
  {
   "cell_type": "code",
   "execution_count": 182,
   "id": "concerned-specialist",
   "metadata": {},
   "outputs": [],
   "source": [
    "recom = recom[wanted_columns]\n",
    "recom['Comida'] = recom['Id'].apply(lambda x: ids[x])\n",
    "recom = recom.merge(nvalues[macros], left_on='Id', right_on='Recipe_id')\n",
    "recom.drop(['Recipe_id'],axis=1,inplace=True)\n",
    "recom = recom.to_dict('r')"
   ]
  },
  {
   "cell_type": "code",
   "execution_count": 189,
   "id": "crazy-favor",
   "metadata": {},
   "outputs": [],
   "source": [
    "for recipe in recom:\n",
    "    recipe['Ingredientes'] =  ing[ing['Recipe_id']==recipe['Id']].set_index('Recipe_id').to_dict('records')"
   ]
  },
  {
   "cell_type": "code",
   "execution_count": 190,
   "id": "smoking-millennium",
   "metadata": {},
   "outputs": [
    {
     "data": {
      "text/plain": [
       "{'Id': 45889,\n",
       " 'Categoria': 'Recetas de Sopas y cremas',\n",
       " 'Nombre': 'Receta de arroz con queso y huevos',\n",
       " 'Dificultad': 'baja',\n",
       " 'Tipo': 'Postre',\n",
       " 'Comida': 'cena',\n",
       " 'energia': 3303.502871,\n",
       " 'grasa': 82.620285,\n",
       " 'proteina': 113.389267,\n",
       " 'fibra': 1.764979,\n",
       " 'carbohidratos': 516.914318,\n",
       " 'Ingredientes': [{'Ingrediente': 'arroz',\n",
       "   'Cantidad': 4.0,\n",
       "   'Unidad': 'taza',\n",
       "   'Indice': 428,\n",
       "   'Grams': 150.0,\n",
       "   'Total_Grams': 600.0,\n",
       "   'Num_comensales': 1.0},\n",
       "  {'Ingrediente': 'queso',\n",
       "   'Cantidad': 1.0,\n",
       "   'Unidad': 'taza',\n",
       "   'Indice': 77,\n",
       "   'Grams': 150.0,\n",
       "   'Total_Grams': 150.0,\n",
       "   'Num_comensales': 1.0},\n",
       "  {'Ingrediente': 'huevo',\n",
       "   'Cantidad': 5.0,\n",
       "   'Unidad': 'unidad',\n",
       "   'Indice': 150,\n",
       "   'Grams': 65.0,\n",
       "   'Total_Grams': 325.0,\n",
       "   'Num_comensales': 1.0},\n",
       "  {'Ingrediente': 'pimienta',\n",
       "   'Cantidad': 5.0,\n",
       "   'Unidad': 'None',\n",
       "   'Indice': 901,\n",
       "   'Grams': 1.67918,\n",
       "   'Total_Grams': 2.15641,\n",
       "   'Num_comensales': 1.0}]}"
      ]
     },
     "execution_count": 190,
     "metadata": {},
     "output_type": "execute_result"
    }
   ],
   "source": [
    "recipe"
   ]
  },
  {
   "cell_type": "code",
   "execution_count": 167,
   "id": "tamil-nursery",
   "metadata": {},
   "outputs": [],
   "source": [
    "import json\n",
    "\n",
    "with open('../test_recipes.json', 'w') as fp:\n",
    "    json.dump(recom, fp, indent=4)"
   ]
  },
  {
   "cell_type": "code",
   "execution_count": null,
   "id": "presidential-alloy",
   "metadata": {},
   "outputs": [],
   "source": []
  },
  {
   "cell_type": "code",
   "execution_count": null,
   "id": "multiple-consent",
   "metadata": {},
   "outputs": [],
   "source": []
  }
 ],
 "metadata": {
  "kernelspec": {
   "display_name": "Python 3",
   "language": "python",
   "name": "python3"
  },
  "language_info": {
   "codemirror_mode": {
    "name": "ipython",
    "version": 3
   },
   "file_extension": ".py",
   "mimetype": "text/x-python",
   "name": "python",
   "nbconvert_exporter": "python",
   "pygments_lexer": "ipython3",
   "version": "3.9.2"
  }
 },
 "nbformat": 4,
 "nbformat_minor": 5
}
