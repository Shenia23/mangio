{
 "cells": [
  {
   "cell_type": "code",
   "execution_count": 31,
   "id": "lonely-marijuana",
   "metadata": {},
   "outputs": [],
   "source": [
    "import pandas as pd\n",
    "import numpy as np\n",
    "import json"
   ]
  },
  {
   "cell_type": "code",
   "execution_count": 53,
   "id": "parental-exhibit",
   "metadata": {},
   "outputs": [
    {
     "ename": "ImportError",
     "evalue": "attempted relative import with no known parent package",
     "output_type": "error",
     "traceback": [
      "\u001b[0;31m---------------------------------------------------------------------------\u001b[0m",
      "\u001b[0;31mImportError\u001b[0m                               Traceback (most recent call last)",
      "\u001b[0;32m<ipython-input-53-ef2f5292a3e5>\u001b[0m in \u001b[0;36m<module>\u001b[0;34m\u001b[0m\n\u001b[0;32m----> 1\u001b[0;31m \u001b[0;32mfrom\u001b[0m \u001b[0;34m.\u001b[0m\u001b[0;34m.\u001b[0m\u001b[0mapp\u001b[0m\u001b[0;34m.\u001b[0m\u001b[0muser\u001b[0m\u001b[0;34m.\u001b[0m\u001b[0muser\u001b[0m \u001b[0;32mimport\u001b[0m \u001b[0mUser\u001b[0m\u001b[0;34m\u001b[0m\u001b[0;34m\u001b[0m\u001b[0m\n\u001b[0m",
      "\u001b[0;31mImportError\u001b[0m: attempted relative import with no known parent package"
     ]
    }
   ],
   "source": [
    "from ..app.user.user import User"
   ]
  },
  {
   "cell_type": "code",
   "execution_count": 9,
   "id": "greater-pottery",
   "metadata": {},
   "outputs": [],
   "source": [
    "nvalues = pd.read_csv('../data/nutritional_values.csv')\n",
    "recipes = pd.read_csv('../data/filtered_recipes_100.csv',sep='|')\n",
    "ingredients = pd.read_csv('../data/ingredients_100.csv')"
   ]
  },
  {
   "cell_type": "code",
   "execution_count": 47,
   "id": "united-fossil",
   "metadata": {},
   "outputs": [],
   "source": [
    "username = 'Francesca'\n",
    "file_name= \"../app/user/users/\"+username+\"_data.json\"\n",
    "with open(file_name, 'r') as f:\n",
    "    json_user = json.load(f)"
   ]
  },
  {
   "cell_type": "code",
   "execution_count": 48,
   "id": "double-vietnamese",
   "metadata": {},
   "outputs": [
    {
     "data": {
      "text/plain": [
       "'{\"name\": \"Francesca\", \"sex\": \"Mujer\", \"age\": 27, \"height\": 165, \"body_type\": \"Mesomorfo\", \"activity_level\": 4, \"liked_ingredients\": [\"cebolla\", \"huevo\"], \"disliked_ingredients\": null, \"user_objective\": 0, \"weight\": 65, \"bmi\": 23.875114784205696, \"bmr\": 1455.6930000000002, \"tdee\": 2511.0704250000003, \"water_intake\": 2410.6276080000002}'"
      ]
     },
     "execution_count": 48,
     "metadata": {},
     "output_type": "execute_result"
    }
   ],
   "source": [
    "json_user"
   ]
  },
  {
   "cell_type": "code",
   "execution_count": 49,
   "id": "appropriate-lingerie",
   "metadata": {},
   "outputs": [
    {
     "data": {
      "text/plain": [
       "str"
      ]
     },
     "execution_count": 49,
     "metadata": {},
     "output_type": "execute_result"
    }
   ],
   "source": [
    "type(json_user)"
   ]
  },
  {
   "cell_type": "code",
   "execution_count": 50,
   "id": "concrete-scanning",
   "metadata": {},
   "outputs": [
    {
     "data": {
      "text/plain": [
       "{'name': 'Francesca',\n",
       " 'sex': 'Mujer',\n",
       " 'age': 27,\n",
       " 'height': 165,\n",
       " 'body_type': 'Mesomorfo',\n",
       " 'activity_level': 4,\n",
       " 'liked_ingredients': ['cebolla', 'huevo'],\n",
       " 'disliked_ingredients': None,\n",
       " 'user_objective': 0,\n",
       " 'weight': 65,\n",
       " 'bmi': 23.875114784205696,\n",
       " 'bmr': 1455.6930000000002,\n",
       " 'tdee': 2511.0704250000003,\n",
       " 'water_intake': 2410.6276080000002}"
      ]
     },
     "execution_count": 50,
     "metadata": {},
     "output_type": "execute_result"
    }
   ],
   "source": [
    "json.loads(json_user)"
   ]
  },
  {
   "cell_type": "code",
   "execution_count": null,
   "id": "editorial-finding",
   "metadata": {},
   "outputs": [],
   "source": []
  }
 ],
 "metadata": {
  "kernelspec": {
   "display_name": "Python 3",
   "language": "python",
   "name": "python3"
  },
  "language_info": {
   "codemirror_mode": {
    "name": "ipython",
    "version": 3
   },
   "file_extension": ".py",
   "mimetype": "text/x-python",
   "name": "python",
   "nbconvert_exporter": "python",
   "pygments_lexer": "ipython3",
   "version": "3.9.2"
  }
 },
 "nbformat": 4,
 "nbformat_minor": 5
}
