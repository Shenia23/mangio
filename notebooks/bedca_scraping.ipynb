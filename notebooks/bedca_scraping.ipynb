{
 "cells": [
  {
   "cell_type": "code",
   "execution_count": 1,
   "id": "pending-liberia",
   "metadata": {},
   "outputs": [],
   "source": [
    "from selenium import webdriver \n",
    "import pandas as pd \n",
    "from selenium.webdriver.common.by import By \n",
    "from selenium.webdriver.support.ui import WebDriverWait \n",
    "from selenium.webdriver.support import expected_conditions as EC\n",
    "from bs4 import BeautifulSoup"
   ]
  },
  {
   "cell_type": "code",
   "execution_count": 2,
   "id": "british-japan",
   "metadata": {},
   "outputs": [],
   "source": [
    "import time\n",
    "from selenium.common.exceptions import NoSuchElementException\n"
   ]
  },
  {
   "cell_type": "code",
   "execution_count": 3,
   "id": "compound-novel",
   "metadata": {},
   "outputs": [],
   "source": [
    "url = \"https://www.bedca.net/bdpub/index.php\"\n",
    "driver = webdriver.Chrome(\"/usr/local/bin/chromedriver\") \n",
    "driver.get(url)"
   ]
  },
  {
   "cell_type": "code",
   "execution_count": 4,
   "id": "consolidated-poetry",
   "metadata": {},
   "outputs": [],
   "source": [
    "#funciones de click\n",
    "\n",
    "def clickOnConsulta(driver):\n",
    "    consulta = driver.find_element_by_xpath(\"//div[@id='navigation']/div[4]\")\n",
    "    consulta.click()\n",
    "    \n",
    "def clickOnGeneral(driver):\n",
    "    alfabetica = driver.find_element_by_xpath(\"//a[@id='General']\")\n",
    "    alfabetica.click()\n",
    "    \n",
    "def selectOption(driver,id):\n",
    "    driver.find_element_by_xpath('//*[@id=\"fglist\"]/option[{}]'.format(id)).click()\n",
    "    driver.find_element_by_xpath(\"//*[@id='content2']/form/fieldset/input\").click()\n",
    "    \n",
    "def clickOnElement(driver,id):\n",
    "    element = driver.find_element_by_xpath(\"//*[@id='querytable1']/tbody/tr[{}]/td[1]/a\".format(id))\n",
    "    element.click()\n",
    "    \n",
    "def goBack(driver):\n",
    "    element = driver.find_element_by_xpath(\"//*[@id='Todos']\".format(id))\n",
    "    element.click()"
   ]
  },
  {
   "cell_type": "code",
   "execution_count": 5,
   "id": "careful-diving",
   "metadata": {},
   "outputs": [],
   "source": [
    "clickOnConsulta(driver)"
   ]
  },
  {
   "cell_type": "code",
   "execution_count": 6,
   "id": "different-tournament",
   "metadata": {},
   "outputs": [],
   "source": [
    "clickOnGeneral(driver)"
   ]
  },
  {
   "cell_type": "code",
   "execution_count": 21,
   "id": "dimensional-saying",
   "metadata": {},
   "outputs": [],
   "source": [
    "ignore = ['Hidratos de Carbono','Grasas','Minerales','Vitaminas']\n",
    "categorias = ['Lácteos','Huevos','Carne','Pescado','Grasas y Aceites','Cereales','Legumbres','Verduras','Frutas','Azúcar','Bebidas','Otros']\n",
    "\n",
    "def scrapeElement(driver):\n",
    "    page_source = driver.page_source\n",
    "    soup = BeautifulSoup(page_source, 'lxml')\n",
    "    name = getElementName(soup)\n",
    "    table = soup.find_all('table')[2] #tabla de valores\n",
    "    tbodys = table.find_all('tbody')[1:]\n",
    "    values = []\n",
    "    for tbody in tbodys:\n",
    "        rows = tbody.find_all('tr')\n",
    "        for row in rows:\n",
    "            cols = row.find_all('td')\n",
    "            saveElementValues(cols,values)\n",
    "    return name, values\n",
    "\n",
    "def getElementName(soup):\n",
    "    name = soup.find(\"h4\", { \"id\" : \"foodname\" }).get_text()\n",
    "    return name\n",
    "        \n",
    "def saveElementValues(cols,values):\n",
    "    if cols[0].get_text() not in ignore:\n",
    "        values.append([col.get_text() for col in cols[:-1]])\n",
    "        \n",
    "def storeElement(name,values,category):\n",
    "    values.append(categorias[category])\n",
    "    food[name]=values"
   ]
  },
  {
   "cell_type": "code",
   "execution_count": 22,
   "id": "english-chicago",
   "metadata": {},
   "outputs": [],
   "source": [
    "food = dict()"
   ]
  },
  {
   "cell_type": "code",
   "execution_count": 23,
   "id": "tribal-breath",
   "metadata": {
    "tags": []
   },
   "outputs": [
    {
     "name": "stdout",
     "output_type": "stream",
     "text": [
      "ALERT:  \n",
      "ALERT:  Cabrito lechal, costillar, asado\n",
      "ALERT:  Cabrito lechal, costillar, crudo\n",
      "ALERT:  Cabrito lechal, espalda, cruda\n",
      "ALERT:  Cabrito lechal, pierna, cruda\n",
      "ALERT:  Carne de cerdo de capa blanca, cabezada, parte magra, cruda\n",
      "ALERT:  Carne de cerdo de capa blanca, cabezada, partes grasa y magra, crudo\n",
      "ALERT:  Carne de cerdo de capa blanca, chuleta, parte magra, cruda\n",
      "ALERT:  Carne de cerdo de capa blanca, chuleta, partes grasa y magra, cruda\n",
      "ALERT:  Carne de cerdo de capa blanca, jamón, parte magra, crudo\n",
      "ALERT:  Carne de cerdo de capa blanca, jamón, partes grasa y magra, crudo\n",
      "ALERT:  Carne de cerdo de capa blanca, lomo, parte magra, crudo\n",
      "ALERT:  Carne de cerdo de capa blanca, lomo, partes grasa y magra, crudo\n",
      "ALERT:  \n",
      "ALERT:  \n",
      "ALERT:  \n",
      "ALERT:  \n",
      "ALERT:  \n",
      "ALERT:  \n",
      "ALERT:  \n",
      "ALERT:  Cordero lechal, costillar, asado\n",
      "ALERT:  Cordero lechal, costillar, crudo\n",
      "ALERT:  Cordero lechal, espalda, cruda\n",
      "ALERT:  Cordero lechal, pierna, cruda\n",
      "ALERT:  Cordero ligero, costillar, asado\n",
      "ALERT:  Cordero ligero, costillar, crudo\n",
      "ALERT:  Cordero ligero, espalda, cruda\n",
      "ALERT:  Cordero ligero, pierna, cruda\n",
      "ALERT:  \n",
      "ALERT:  \n",
      "ALERT:  \n",
      "ALERT:  Nispero, conserva en su jugo\n",
      "ALERT:  Zumo de uva\n",
      "CPU times: user 1min 43s, sys: 2.42 s, total: 1min 46s\n",
      "Wall time: 39min 27s\n"
     ]
    }
   ],
   "source": [
    "%%time\n",
    "\n",
    "for category in range(1,13):\n",
    "    time.sleep(1)\n",
    "    selectOption(driver,category)\n",
    "    rows = []\n",
    "    time.sleep(1)\n",
    "    rows = driver.find_elements_by_xpath(\"//*[@id='querytable1']/tbody/tr\")\n",
    "    for index in range(len(rows)-1):\n",
    "        time.sleep(1)\n",
    "        try:\n",
    "            clickOnElement(driver,index+2)\n",
    "            time.sleep(1)\n",
    "        except NoSuchElementException:\n",
    "            break\n",
    "        name, values = scrapeElement(driver)\n",
    "        if(len(values) != 40):\n",
    "            print('ALERT: ',name) #Alerta si falta algun valor, los que salen en blanco es porque están completamente vacíos\n",
    "        storeElement(name,values,category-1)\n",
    "        goBack(driver)\n",
    "    goBack(driver)"
   ]
  },
  {
   "cell_type": "code",
   "execution_count": 40,
   "id": "biological-enough",
   "metadata": {
    "tags": []
   },
   "outputs": [
    {
     "data": {
      "text/plain": [
       "958"
      ]
     },
     "execution_count": 40,
     "metadata": {},
     "output_type": "execute_result"
    }
   ],
   "source": [
    "len(food)"
   ]
  },
  {
   "cell_type": "code",
   "execution_count": 39,
   "id": "surprised-bracelet",
   "metadata": {},
   "outputs": [],
   "source": [
    "with open('bedca_raw.json', 'w') as fp:\n",
    "    json.dump(food, fp)"
   ]
  }
 ],
 "metadata": {
  "kernelspec": {
   "display_name": "Python 3",
   "language": "python",
   "name": "python3"
  },
  "language_info": {
   "codemirror_mode": {
    "name": "ipython",
    "version": 3
   },
   "file_extension": ".py",
   "mimetype": "text/x-python",
   "name": "python",
   "nbconvert_exporter": "python",
   "pygments_lexer": "ipython3",
   "version": "3.9.2"
  }
 },
 "nbformat": 4,
 "nbformat_minor": 5
}
