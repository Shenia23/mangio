{
 "cells": [
  {
   "cell_type": "code",
   "execution_count": 1,
   "metadata": {},
   "outputs": [],
   "source": [
    "import pandas as pd\n",
    "import numpy as np\n",
    "\n",
    "ingredients = pd.read_csv(\"../data/ingredientes.csv\")"
   ]
  },
  {
   "cell_type": "code",
   "execution_count": 2,
   "metadata": {},
   "outputs": [
    {
     "data": {
      "text/html": [
       "<div>\n",
       "<style scoped>\n",
       "    .dataframe tbody tr th:only-of-type {\n",
       "        vertical-align: middle;\n",
       "    }\n",
       "\n",
       "    .dataframe tbody tr th {\n",
       "        vertical-align: top;\n",
       "    }\n",
       "\n",
       "    .dataframe thead th {\n",
       "        text-align: right;\n",
       "    }\n",
       "</style>\n",
       "<table border=\"1\" class=\"dataframe\">\n",
       "  <thead>\n",
       "    <tr style=\"text-align: right;\">\n",
       "      <th></th>\n",
       "      <th>Recipe_id</th>\n",
       "      <th>Ingrediente</th>\n",
       "      <th>Cantidad</th>\n",
       "      <th>Unidad</th>\n",
       "      <th>Indice</th>\n",
       "      <th>Grams</th>\n",
       "      <th>Total_Grams</th>\n",
       "    </tr>\n",
       "  </thead>\n",
       "  <tbody>\n",
       "    <tr>\n",
       "      <th>0</th>\n",
       "      <td>74154</td>\n",
       "      <td>harina</td>\n",
       "      <td>10.0</td>\n",
       "      <td>None</td>\n",
       "      <td>482</td>\n",
       "      <td>NaN</td>\n",
       "      <td>NaN</td>\n",
       "    </tr>\n",
       "    <tr>\n",
       "      <th>1</th>\n",
       "      <td>74154</td>\n",
       "      <td>chorizo</td>\n",
       "      <td>500.0</td>\n",
       "      <td>gramos</td>\n",
       "      <td>181</td>\n",
       "      <td>1.0</td>\n",
       "      <td>500.0</td>\n",
       "    </tr>\n",
       "    <tr>\n",
       "      <th>2</th>\n",
       "      <td>74154</td>\n",
       "      <td>alubia</td>\n",
       "      <td>1.5</td>\n",
       "      <td>tazas</td>\n",
       "      <td>535</td>\n",
       "      <td>150.0</td>\n",
       "      <td>225.0</td>\n",
       "    </tr>\n",
       "    <tr>\n",
       "      <th>3</th>\n",
       "      <td>74154</td>\n",
       "      <td>queso</td>\n",
       "      <td>1.0</td>\n",
       "      <td>taza</td>\n",
       "      <td>77</td>\n",
       "      <td>150.0</td>\n",
       "      <td>150.0</td>\n",
       "    </tr>\n",
       "    <tr>\n",
       "      <th>4</th>\n",
       "      <td>74154</td>\n",
       "      <td>lechuga</td>\n",
       "      <td>1.0</td>\n",
       "      <td>rebanada</td>\n",
       "      <td>634</td>\n",
       "      <td>60.0</td>\n",
       "      <td>60.0</td>\n",
       "    </tr>\n",
       "    <tr>\n",
       "      <th>5</th>\n",
       "      <td>74154</td>\n",
       "      <td>cebolla</td>\n",
       "      <td>3.0</td>\n",
       "      <td>cucharadas soperas</td>\n",
       "      <td>610</td>\n",
       "      <td>17.0</td>\n",
       "      <td>51.0</td>\n",
       "    </tr>\n",
       "    <tr>\n",
       "      <th>6</th>\n",
       "      <td>74154</td>\n",
       "      <td>sal</td>\n",
       "      <td>1.0</td>\n",
       "      <td>pizca</td>\n",
       "      <td>908</td>\n",
       "      <td>1.0</td>\n",
       "      <td>1.0</td>\n",
       "    </tr>\n",
       "    <tr>\n",
       "      <th>7</th>\n",
       "      <td>74146</td>\n",
       "      <td>pollo</td>\n",
       "      <td>1.0</td>\n",
       "      <td>pechuga</td>\n",
       "      <td>242</td>\n",
       "      <td>400.0</td>\n",
       "      <td>400.0</td>\n",
       "    </tr>\n",
       "    <tr>\n",
       "      <th>8</th>\n",
       "      <td>74146</td>\n",
       "      <td>nuez moscada</td>\n",
       "      <td>1.0</td>\n",
       "      <td>pellizco</td>\n",
       "      <td>891</td>\n",
       "      <td>1.0</td>\n",
       "      <td>1.0</td>\n",
       "    </tr>\n",
       "    <tr>\n",
       "      <th>9</th>\n",
       "      <td>74146</td>\n",
       "      <td>mantequilla</td>\n",
       "      <td>150.0</td>\n",
       "      <td>gramos</td>\n",
       "      <td>419</td>\n",
       "      <td>1.0</td>\n",
       "      <td>150.0</td>\n",
       "    </tr>\n",
       "  </tbody>\n",
       "</table>\n",
       "</div>"
      ],
      "text/plain": [
       "   Recipe_id   Ingrediente  Cantidad              Unidad  Indice  Grams  \\\n",
       "0      74154        harina      10.0                None     482    NaN   \n",
       "1      74154       chorizo     500.0              gramos     181    1.0   \n",
       "2      74154        alubia       1.5               tazas     535  150.0   \n",
       "3      74154         queso       1.0                taza      77  150.0   \n",
       "4      74154       lechuga       1.0            rebanada     634   60.0   \n",
       "5      74154       cebolla       3.0  cucharadas soperas     610   17.0   \n",
       "6      74154           sal       1.0               pizca     908    1.0   \n",
       "7      74146         pollo       1.0             pechuga     242  400.0   \n",
       "8      74146  nuez moscada       1.0            pellizco     891    1.0   \n",
       "9      74146   mantequilla     150.0              gramos     419    1.0   \n",
       "\n",
       "   Total_Grams  \n",
       "0          NaN  \n",
       "1        500.0  \n",
       "2        225.0  \n",
       "3        150.0  \n",
       "4         60.0  \n",
       "5         51.0  \n",
       "6          1.0  \n",
       "7        400.0  \n",
       "8          1.0  \n",
       "9        150.0  "
      ]
     },
     "execution_count": 2,
     "metadata": {},
     "output_type": "execute_result"
    }
   ],
   "source": [
    "ingredients.head(10)"
   ]
  },
  {
   "cell_type": "code",
   "execution_count": 3,
   "metadata": {},
   "outputs": [
    {
     "data": {
      "text/plain": [
       "(52384, 7)"
      ]
     },
     "execution_count": 3,
     "metadata": {},
     "output_type": "execute_result"
    }
   ],
   "source": [
    "ingredients.shape"
   ]
  },
  {
   "cell_type": "code",
   "execution_count": 4,
   "metadata": {},
   "outputs": [
    {
     "data": {
      "text/plain": [
       "7166"
      ]
     },
     "execution_count": 4,
     "metadata": {},
     "output_type": "execute_result"
    }
   ],
   "source": [
    "ingredients['Cantidad'].isna().sum()"
   ]
  },
  {
   "cell_type": "code",
   "execution_count": 5,
   "metadata": {},
   "outputs": [
    {
     "data": {
      "text/plain": [
       "15991"
      ]
     },
     "execution_count": 5,
     "metadata": {},
     "output_type": "execute_result"
    }
   ],
   "source": [
    "ingredients[ingredients['Unidad'] == 'None'].shape[0]"
   ]
  },
  {
   "cell_type": "code",
   "execution_count": 6,
   "metadata": {},
   "outputs": [
    {
     "data": {
      "text/plain": [
       "16915"
      ]
     },
     "execution_count": 6,
     "metadata": {},
     "output_type": "execute_result"
    }
   ],
   "source": [
    "ingredients['Grams'].isna().sum()"
   ]
  },
  {
   "cell_type": "code",
   "execution_count": 7,
   "metadata": {},
   "outputs": [],
   "source": [
    "recipe_nan_quantities_list = []\n",
    "for index, value in ingredients.iterrows():\n",
    "    recipe_nan_quantities = {}\n",
    "    recipe_nan_quantities[\"Id_receta\"]=value[\"Recipe_id\"]\n",
    "    "
   ]
  },
  {
   "cell_type": "code",
   "execution_count": 8,
   "metadata": {},
   "outputs": [
    {
     "data": {
      "text/plain": [
       "['sal',\n",
       " 'cebolla',\n",
       " 'huevo',\n",
       " 'ajo',\n",
       " 'pimienta',\n",
       " 'leche',\n",
       " 'aceite de oliva',\n",
       " 'azúcar',\n",
       " 'tomate',\n",
       " 'aceite',\n",
       " 'harina',\n",
       " 'mantequilla',\n",
       " 'agua',\n",
       " 'perejil',\n",
       " 'limón',\n",
       " 'queso',\n",
       " 'patata',\n",
       " 'pollo',\n",
       " 'pimiento',\n",
       " 'pimienta negra',\n",
       " 'vino',\n",
       " 'zanahoria',\n",
       " 'pimentón',\n",
       " 'vinagre',\n",
       " 'vainilla',\n",
       " 'canela',\n",
       " 'pan',\n",
       " 'laurel',\n",
       " 'arroz',\n",
       " 'orégano']"
      ]
     },
     "execution_count": 8,
     "metadata": {},
     "output_type": "execute_result"
    }
   ],
   "source": [
    "ingredients['Ingrediente'].value_counts()[:30].index.tolist()\n"
   ]
  },
  {
   "cell_type": "code",
   "execution_count": 14,
   "metadata": {},
   "outputs": [
    {
     "data": {
      "text/plain": [
       "sal                4088\n",
       "cebolla            2493\n",
       "huevo              2349\n",
       "ajo                2244\n",
       "pimienta           2099\n",
       "leche              2049\n",
       "aceite de oliva    1887\n",
       "azúcar             1804\n",
       "tomate             1402\n",
       "aceite             1365\n",
       "harina             1264\n",
       "mantequilla        1199\n",
       "agua               1155\n",
       "perejil            1147\n",
       "limón               986\n",
       "queso               969\n",
       "patata              860\n",
       "pollo               813\n",
       "pimiento            722\n",
       "pimienta negra      664\n",
       "vino                638\n",
       "zanahoria           549\n",
       "pimentón            454\n",
       "vinagre             448\n",
       "vainilla            439\n",
       "canela              431\n",
       "pan                 431\n",
       "laurel              375\n",
       "arroz               370\n",
       "orégano             350\n",
       "Name: Ingrediente, dtype: int64"
      ]
     },
     "execution_count": 14,
     "metadata": {},
     "output_type": "execute_result"
    }
   ],
   "source": [
    "ingredients[\"Ingrediente\"].value_counts().nlargest(n=30)"
   ]
  },
  {
   "cell_type": "code",
   "execution_count": 18,
   "metadata": {},
   "outputs": [
    {
     "data": {
      "text/plain": [
       "queso herreño            1\n",
       "salchichón               1\n",
       "flan de huevo            1\n",
       "aceite de sésamo         1\n",
       "breca                    1\n",
       "queso munster            1\n",
       "paté de pimienta         1\n",
       "centeno                  1\n",
       "muesli                   1\n",
       "vino rosado              1\n",
       "chistorra                1\n",
       "galleta salada           1\n",
       "panga                    1\n",
       "sobao                    1\n",
       "leche de almendra        1\n",
       "salsa agridulce          1\n",
       "arroz con leche          1\n",
       "pan de maíz              1\n",
       "batido de chocolate      1\n",
       "merluza fresca           1\n",
       "guisantes en conserva    1\n",
       "aceite de palma          1\n",
       "queso en porciones       1\n",
       "zamburiñas               1\n",
       "leche de cabra           1\n",
       "zumo de mango            1\n",
       "perca                    1\n",
       "néctar de melocotón      1\n",
       "platija                  1\n",
       "infusión                 1\n",
       "Name: Ingrediente, dtype: int64"
      ]
     },
     "execution_count": 18,
     "metadata": {},
     "output_type": "execute_result"
    }
   ],
   "source": [
    "ingredients[\"Ingrediente\"].value_counts().nsmallest(n=30)"
   ]
  },
  {
   "cell_type": "code",
   "execution_count": null,
   "metadata": {},
   "outputs": [],
   "source": []
  }
 ],
 "metadata": {
  "kernelspec": {
   "display_name": "Python 3",
   "language": "python",
   "name": "python3"
  },
  "language_info": {
   "codemirror_mode": {
    "name": "ipython",
    "version": 3
   },
   "file_extension": ".py",
   "mimetype": "text/x-python",
   "name": "python",
   "nbconvert_exporter": "python",
   "pygments_lexer": "ipython3",
   "version": "3.9.2"
  }
 },
 "nbformat": 4,
 "nbformat_minor": 4
}
