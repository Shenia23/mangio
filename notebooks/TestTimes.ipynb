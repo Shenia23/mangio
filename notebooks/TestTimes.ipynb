{
 "cells": [
  {
   "cell_type": "code",
   "execution_count": 102,
   "id": "meaningful-effects",
   "metadata": {},
   "outputs": [],
   "source": [
    "import numpy as np\n",
    "import pandas as pd\n",
    "from sklearn.metrics.pairwise import euclidean_distances\n",
    "from sklearn.preprocessing import StandardScaler"
   ]
  },
  {
   "cell_type": "code",
   "execution_count": 253,
   "id": "instrumental-documentation",
   "metadata": {},
   "outputs": [],
   "source": [
    "data = pd.read_csv(\"../data/combined.csv\") \n",
    "data_values = data[[\"energia\",\"proteina\",\"grasa\",\"carbohidratos\"]]\n",
    "nutritional_values = pd.read_csv(\"../data/nutritional_values.csv\")"
   ]
  },
  {
   "cell_type": "code",
   "execution_count": 254,
   "id": "august-effort",
   "metadata": {},
   "outputs": [
    {
     "data": {
      "text/html": [
       "<div>\n",
       "<style scoped>\n",
       "    .dataframe tbody tr th:only-of-type {\n",
       "        vertical-align: middle;\n",
       "    }\n",
       "\n",
       "    .dataframe tbody tr th {\n",
       "        vertical-align: top;\n",
       "    }\n",
       "\n",
       "    .dataframe thead th {\n",
       "        text-align: right;\n",
       "    }\n",
       "</style>\n",
       "<table border=\"1\" class=\"dataframe\">\n",
       "  <thead>\n",
       "    <tr style=\"text-align: right;\">\n",
       "      <th></th>\n",
       "      <th>Recipe1</th>\n",
       "      <th>Recipe2</th>\n",
       "      <th>energia</th>\n",
       "      <th>grasa</th>\n",
       "      <th>proteina</th>\n",
       "      <th>carbohidratos</th>\n",
       "    </tr>\n",
       "  </thead>\n",
       "  <tbody>\n",
       "    <tr>\n",
       "      <th>0</th>\n",
       "      <td>51</td>\n",
       "      <td>53</td>\n",
       "      <td>-1.440671</td>\n",
       "      <td>-0.104548</td>\n",
       "      <td>-1.335397</td>\n",
       "      <td>-1.261165</td>\n",
       "    </tr>\n",
       "    <tr>\n",
       "      <th>1</th>\n",
       "      <td>51</td>\n",
       "      <td>61</td>\n",
       "      <td>-1.128588</td>\n",
       "      <td>-0.325347</td>\n",
       "      <td>-0.507423</td>\n",
       "      <td>-1.168580</td>\n",
       "    </tr>\n",
       "    <tr>\n",
       "      <th>2</th>\n",
       "      <td>51</td>\n",
       "      <td>68</td>\n",
       "      <td>1.209545</td>\n",
       "      <td>1.890373</td>\n",
       "      <td>-0.480118</td>\n",
       "      <td>-0.075447</td>\n",
       "    </tr>\n",
       "    <tr>\n",
       "      <th>3</th>\n",
       "      <td>51</td>\n",
       "      <td>6320</td>\n",
       "      <td>-0.493093</td>\n",
       "      <td>0.039271</td>\n",
       "      <td>-0.485255</td>\n",
       "      <td>-0.475820</td>\n",
       "    </tr>\n",
       "    <tr>\n",
       "      <th>4</th>\n",
       "      <td>51</td>\n",
       "      <td>6388</td>\n",
       "      <td>-1.423154</td>\n",
       "      <td>-0.385962</td>\n",
       "      <td>-1.329622</td>\n",
       "      <td>-0.896342</td>\n",
       "    </tr>\n",
       "    <tr>\n",
       "      <th>...</th>\n",
       "      <td>...</td>\n",
       "      <td>...</td>\n",
       "      <td>...</td>\n",
       "      <td>...</td>\n",
       "      <td>...</td>\n",
       "      <td>...</td>\n",
       "    </tr>\n",
       "    <tr>\n",
       "      <th>1889316</th>\n",
       "      <td>74163</td>\n",
       "      <td>74164</td>\n",
       "      <td>1.403953</td>\n",
       "      <td>0.782408</td>\n",
       "      <td>0.458573</td>\n",
       "      <td>1.096325</td>\n",
       "    </tr>\n",
       "    <tr>\n",
       "      <th>1889317</th>\n",
       "      <td>74163</td>\n",
       "      <td>74200</td>\n",
       "      <td>0.339694</td>\n",
       "      <td>-0.496990</td>\n",
       "      <td>0.093199</td>\n",
       "      <td>1.169474</td>\n",
       "    </tr>\n",
       "    <tr>\n",
       "      <th>1889318</th>\n",
       "      <td>74164</td>\n",
       "      <td>74194</td>\n",
       "      <td>0.878531</td>\n",
       "      <td>0.895928</td>\n",
       "      <td>1.543876</td>\n",
       "      <td>-0.604091</td>\n",
       "    </tr>\n",
       "    <tr>\n",
       "      <th>1889319</th>\n",
       "      <td>74164</td>\n",
       "      <td>74200</td>\n",
       "      <td>-0.682904</td>\n",
       "      <td>-0.405051</td>\n",
       "      <td>-0.144396</td>\n",
       "      <td>-0.433730</td>\n",
       "    </tr>\n",
       "    <tr>\n",
       "      <th>1889320</th>\n",
       "      <td>74194</td>\n",
       "      <td>74200</td>\n",
       "      <td>-0.185727</td>\n",
       "      <td>-0.383469</td>\n",
       "      <td>1.178502</td>\n",
       "      <td>-0.530942</td>\n",
       "    </tr>\n",
       "  </tbody>\n",
       "</table>\n",
       "<p>1889321 rows × 6 columns</p>\n",
       "</div>"
      ],
      "text/plain": [
       "         Recipe1  Recipe2   energia     grasa  proteina  carbohidratos\n",
       "0             51       53 -1.440671 -0.104548 -1.335397      -1.261165\n",
       "1             51       61 -1.128588 -0.325347 -0.507423      -1.168580\n",
       "2             51       68  1.209545  1.890373 -0.480118      -0.075447\n",
       "3             51     6320 -0.493093  0.039271 -0.485255      -0.475820\n",
       "4             51     6388 -1.423154 -0.385962 -1.329622      -0.896342\n",
       "...          ...      ...       ...       ...       ...            ...\n",
       "1889316    74163    74164  1.403953  0.782408  0.458573       1.096325\n",
       "1889317    74163    74200  0.339694 -0.496990  0.093199       1.169474\n",
       "1889318    74164    74194  0.878531  0.895928  1.543876      -0.604091\n",
       "1889319    74164    74200 -0.682904 -0.405051 -0.144396      -0.433730\n",
       "1889320    74194    74200 -0.185727 -0.383469  1.178502      -0.530942\n",
       "\n",
       "[1889321 rows x 6 columns]"
      ]
     },
     "execution_count": 254,
     "metadata": {},
     "output_type": "execute_result"
    }
   ],
   "source": [
    "scaler = StandardScaler()\n",
    "data[target_columns] = scaler.fit_transform(data[target_columns])\n",
    "data"
   ]
  },
  {
   "cell_type": "code",
   "execution_count": 255,
   "id": "backed-vampire",
   "metadata": {},
   "outputs": [
    {
     "data": {
      "text/plain": [
       "array([1639.53508673,   81.51025658,   94.39842333,  123.00922938])"
      ]
     },
     "execution_count": 255,
     "metadata": {},
     "output_type": "execute_result"
    }
   ],
   "source": [
    "scaler.mean_"
   ]
  },
  {
   "cell_type": "code",
   "execution_count": 220,
   "id": "interested-strap",
   "metadata": {},
   "outputs": [
    {
     "data": {
      "text/html": [
       "<div>\n",
       "<style scoped>\n",
       "    .dataframe tbody tr th:only-of-type {\n",
       "        vertical-align: middle;\n",
       "    }\n",
       "\n",
       "    .dataframe tbody tr th {\n",
       "        vertical-align: top;\n",
       "    }\n",
       "\n",
       "    .dataframe thead th {\n",
       "        text-align: right;\n",
       "    }\n",
       "</style>\n",
       "<table border=\"1\" class=\"dataframe\">\n",
       "  <thead>\n",
       "    <tr style=\"text-align: right;\">\n",
       "      <th></th>\n",
       "      <th>energia</th>\n",
       "      <th>grasa</th>\n",
       "      <th>proteina</th>\n",
       "      <th>carbohidratos</th>\n",
       "    </tr>\n",
       "  </thead>\n",
       "  <tbody>\n",
       "    <tr>\n",
       "      <th>0</th>\n",
       "      <td>1000</td>\n",
       "      <td>100</td>\n",
       "      <td>80</td>\n",
       "      <td>15</td>\n",
       "    </tr>\n",
       "  </tbody>\n",
       "</table>\n",
       "</div>"
      ],
      "text/plain": [
       "   energia  grasa  proteina  carbohidratos\n",
       "0     1000    100        80             15"
      ]
     },
     "execution_count": 220,
     "metadata": {},
     "output_type": "execute_result"
    }
   ],
   "source": [
    "df = pd.DataFrame([[1000, 100, 80, 15]],columns=target_columns)\n",
    "df"
   ]
  },
  {
   "cell_type": "code",
   "execution_count": 221,
   "id": "important-martin",
   "metadata": {},
   "outputs": [
    {
     "data": {
      "text/html": [
       "<div>\n",
       "<style scoped>\n",
       "    .dataframe tbody tr th:only-of-type {\n",
       "        vertical-align: middle;\n",
       "    }\n",
       "\n",
       "    .dataframe tbody tr th {\n",
       "        vertical-align: top;\n",
       "    }\n",
       "\n",
       "    .dataframe thead th {\n",
       "        text-align: right;\n",
       "    }\n",
       "</style>\n",
       "<table border=\"1\" class=\"dataframe\">\n",
       "  <thead>\n",
       "    <tr style=\"text-align: right;\">\n",
       "      <th></th>\n",
       "      <th>energia</th>\n",
       "      <th>grasa</th>\n",
       "      <th>proteina</th>\n",
       "      <th>carbohidratos</th>\n",
       "    </tr>\n",
       "  </thead>\n",
       "  <tbody>\n",
       "    <tr>\n",
       "      <th>0</th>\n",
       "      <td>-0.93911</td>\n",
       "      <td>-0.531425</td>\n",
       "      <td>-0.533359</td>\n",
       "      <td>-1.071159</td>\n",
       "    </tr>\n",
       "  </tbody>\n",
       "</table>\n",
       "</div>"
      ],
      "text/plain": [
       "   energia     grasa  proteina  carbohidratos\n",
       "0 -0.93911 -0.531425 -0.533359      -1.071159"
      ]
     },
     "execution_count": 221,
     "metadata": {},
     "output_type": "execute_result"
    }
   ],
   "source": [
    "df[target_columns] = scaler.transform(df[target_columns])\n",
    "df"
   ]
  },
  {
   "cell_type": "code",
   "execution_count": 256,
   "id": "renewable-tragedy",
   "metadata": {},
   "outputs": [
    {
     "data": {
      "text/plain": [
       "array([[-1.17155005,  0.40199432, -0.89100108, -1.30756094]])"
      ]
     },
     "execution_count": 256,
     "metadata": {},
     "output_type": "execute_result"
    }
   ],
   "source": [
    "result = scaler.transform([[1000, 100, 45, 15]])\n",
    "result\n"
   ]
  },
  {
   "cell_type": "code",
   "execution_count": 219,
   "id": "employed-establishment",
   "metadata": {},
   "outputs": [],
   "source": [
    "target_values = np.array([1000, 100, 80, 15])\n",
    "target_columns = [\"energia\",\"grasa\",'proteina',\"carbohidratos\"]"
   ]
  },
  {
   "cell_type": "code",
   "execution_count": 257,
   "id": "prescription-responsibility",
   "metadata": {},
   "outputs": [],
   "source": [
    "def getClosest(target_values):\n",
    "    objetivos = scaler.transform([target_values])\n",
    "    eucl_dist = euclidean_distances(objetivos, data[target_columns].values).reshape(-1) #NP Con las distancias al objetivo\n",
    "    ind_min_ed = (np.where(eucl_dist == np.amin(eucl_dist)))[0] #indice de la combinacion con menor distancia\n",
    "    ind_comida = int(data.iloc[int(ind_min_ed)]['Recipe1']) #indices de las recetas 1 y 2 de la combinación\n",
    "    ind_cena = int(data.iloc[int(ind_min_ed)]['Recipe2'])\n",
    "    return ind_min_ed, ind_comida, ind_cena\n",
    "\n",
    "def getClosest2(target_values):\n",
    "    objetivos = scaler.transform([target_values])\n",
    "    data['distance'] = euclidean_distances(objetivos, data_values.values).reshape(-1)\n",
    "    ids = data.nsmallest(1, 'distance')[['Recipe1','Recipe2']]\n",
    "    return ind_min_ed, ids\n",
    "\n",
    "def getClosest3(target_values):\n",
    "    data['distance'] = data.apply(lambda row: euclidean_distances(scaler.transform([target_values]), data_values.values).reshape(-1))\n",
    "    ids = data.nsmallest(1, 'distance')[['Recipe1','Recipe2']]\n",
    "    return ind_min_ed, ids"
   ]
  },
  {
   "cell_type": "code",
   "execution_count": 261,
   "id": "disturbed-heavy",
   "metadata": {},
   "outputs": [
    {
     "name": "stdout",
     "output_type": "stream",
     "text": [
      "77.1 ms ± 11.4 ms per loop (mean ± std. dev. of 7 runs, 10 loops each)\n"
     ]
    }
   ],
   "source": [
    "%%timeit\n",
    "getClosest(target_values) # numpy"
   ]
  },
  {
   "cell_type": "code",
   "execution_count": 262,
   "id": "continental-penalty",
   "metadata": {},
   "outputs": [
    {
     "name": "stdout",
     "output_type": "stream",
     "text": [
      "109 ms ± 682 µs per loop (mean ± std. dev. of 7 runs, 10 loops each)\n"
     ]
    }
   ],
   "source": [
    "%%timeit\n",
    "getClosest2(target_values) # creando una columna pero usando numpy"
   ]
  },
  {
   "cell_type": "code",
   "execution_count": 263,
   "id": "catholic-rochester",
   "metadata": {},
   "outputs": [
    {
     "name": "stdout",
     "output_type": "stream",
     "text": [
      "456 ms ± 9.37 ms per loop (mean ± std. dev. of 7 runs, 1 loop each)\n"
     ]
    }
   ],
   "source": [
    "%%timeit\n",
    "getClosest3(target_values) # con apply"
   ]
  }
 ],
 "metadata": {
  "kernelspec": {
   "display_name": "Python 3",
   "language": "python",
   "name": "python3"
  },
  "language_info": {
   "codemirror_mode": {
    "name": "ipython",
    "version": 3
   },
   "file_extension": ".py",
   "mimetype": "text/x-python",
   "name": "python",
   "nbconvert_exporter": "python",
   "pygments_lexer": "ipython3",
   "version": "3.9.2"
  }
 },
 "nbformat": 4,
 "nbformat_minor": 5
}
