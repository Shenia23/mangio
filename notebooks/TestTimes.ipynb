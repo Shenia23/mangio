{
 "cells": [
  {
   "cell_type": "code",
   "execution_count": 102,
   "id": "aggregate-consumer",
   "metadata": {},
   "outputs": [],
   "source": [
    "import numpy as np\n",
    "import pandas as pd\n",
    "from sklearn.metrics.pairwise import euclidean_distances\n",
    "from sklearn.preprocessing import StandardScaler"
   ]
  },
  {
   "cell_type": "code",
   "execution_count": 204,
   "id": "overhead-nightmare",
   "metadata": {},
   "outputs": [],
   "source": [
    "data = pd.read_csv(\"../data/combined.csv\") \n",
    "data_values = data[[\"energia\",\"proteina\",\"grasa\",\"carbohidratos\"]]\n",
    "nutritional_values = pd.read_csv(\"../data/nutritional_values.csv\")"
   ]
  },
  {
   "cell_type": "code",
   "execution_count": 205,
   "id": "minus-expert",
   "metadata": {},
   "outputs": [
    {
     "data": {
      "text/html": [
       "<div>\n",
       "<style scoped>\n",
       "    .dataframe tbody tr th:only-of-type {\n",
       "        vertical-align: middle;\n",
       "    }\n",
       "\n",
       "    .dataframe tbody tr th {\n",
       "        vertical-align: top;\n",
       "    }\n",
       "\n",
       "    .dataframe thead th {\n",
       "        text-align: right;\n",
       "    }\n",
       "</style>\n",
       "<table border=\"1\" class=\"dataframe\">\n",
       "  <thead>\n",
       "    <tr style=\"text-align: right;\">\n",
       "      <th></th>\n",
       "      <th>Recipe1</th>\n",
       "      <th>Recipe2</th>\n",
       "      <th>energia</th>\n",
       "      <th>grasa</th>\n",
       "      <th>proteina</th>\n",
       "      <th>carbohidratos</th>\n",
       "    </tr>\n",
       "  </thead>\n",
       "  <tbody>\n",
       "    <tr>\n",
       "      <th>0</th>\n",
       "      <td>51</td>\n",
       "      <td>53</td>\n",
       "      <td>-0.997959</td>\n",
       "      <td>-0.547509</td>\n",
       "      <td>-1.197785</td>\n",
       "      <td>-1.049113</td>\n",
       "    </tr>\n",
       "    <tr>\n",
       "      <th>1</th>\n",
       "      <td>51</td>\n",
       "      <td>61</td>\n",
       "      <td>-0.929716</td>\n",
       "      <td>-0.591076</td>\n",
       "      <td>-0.813689</td>\n",
       "      <td>-1.005118</td>\n",
       "    </tr>\n",
       "    <tr>\n",
       "      <th>2</th>\n",
       "      <td>51</td>\n",
       "      <td>68</td>\n",
       "      <td>-0.418435</td>\n",
       "      <td>-0.153878</td>\n",
       "      <td>-0.801022</td>\n",
       "      <td>-0.485682</td>\n",
       "    </tr>\n",
       "    <tr>\n",
       "      <th>3</th>\n",
       "      <td>51</td>\n",
       "      <td>6320</td>\n",
       "      <td>-0.790752</td>\n",
       "      <td>-0.519131</td>\n",
       "      <td>-0.803406</td>\n",
       "      <td>-0.675932</td>\n",
       "    </tr>\n",
       "    <tr>\n",
       "      <th>4</th>\n",
       "      <td>51</td>\n",
       "      <td>6388</td>\n",
       "      <td>-0.994129</td>\n",
       "      <td>-0.603036</td>\n",
       "      <td>-1.195107</td>\n",
       "      <td>-0.875756</td>\n",
       "    </tr>\n",
       "    <tr>\n",
       "      <th>...</th>\n",
       "      <td>...</td>\n",
       "      <td>...</td>\n",
       "      <td>...</td>\n",
       "      <td>...</td>\n",
       "      <td>...</td>\n",
       "      <td>...</td>\n",
       "    </tr>\n",
       "    <tr>\n",
       "      <th>4441685</th>\n",
       "      <td>74163</td>\n",
       "      <td>74194</td>\n",
       "      <td>-0.267205</td>\n",
       "      <td>-0.368240</td>\n",
       "      <td>0.248127</td>\n",
       "      <td>0.024928</td>\n",
       "    </tr>\n",
       "    <tr>\n",
       "      <th>4441686</th>\n",
       "      <td>74163</td>\n",
       "      <td>74200</td>\n",
       "      <td>-0.608645</td>\n",
       "      <td>-0.624944</td>\n",
       "      <td>-0.535061</td>\n",
       "      <td>0.105881</td>\n",
       "    </tr>\n",
       "    <tr>\n",
       "      <th>4441687</th>\n",
       "      <td>74164</td>\n",
       "      <td>74194</td>\n",
       "      <td>-0.490818</td>\n",
       "      <td>-0.350099</td>\n",
       "      <td>0.137907</td>\n",
       "      <td>-0.736884</td>\n",
       "    </tr>\n",
       "    <tr>\n",
       "      <th>4441688</th>\n",
       "      <td>74164</td>\n",
       "      <td>74200</td>\n",
       "      <td>-0.832258</td>\n",
       "      <td>-0.606803</td>\n",
       "      <td>-0.645281</td>\n",
       "      <td>-0.655931</td>\n",
       "    </tr>\n",
       "    <tr>\n",
       "      <th>4441689</th>\n",
       "      <td>74194</td>\n",
       "      <td>74200</td>\n",
       "      <td>-0.723540</td>\n",
       "      <td>-0.602545</td>\n",
       "      <td>-0.031590</td>\n",
       "      <td>-0.702125</td>\n",
       "    </tr>\n",
       "  </tbody>\n",
       "</table>\n",
       "<p>4441690 rows × 6 columns</p>\n",
       "</div>"
      ],
      "text/plain": [
       "         Recipe1  Recipe2   energia     grasa  proteina  carbohidratos\n",
       "0             51       53 -0.997959 -0.547509 -1.197785      -1.049113\n",
       "1             51       61 -0.929716 -0.591076 -0.813689      -1.005118\n",
       "2             51       68 -0.418435 -0.153878 -0.801022      -0.485682\n",
       "3             51     6320 -0.790752 -0.519131 -0.803406      -0.675932\n",
       "4             51     6388 -0.994129 -0.603036 -1.195107      -0.875756\n",
       "...          ...      ...       ...       ...       ...            ...\n",
       "4441685    74163    74194 -0.267205 -0.368240  0.248127       0.024928\n",
       "4441686    74163    74200 -0.608645 -0.624944 -0.535061       0.105881\n",
       "4441687    74164    74194 -0.490818 -0.350099  0.137907      -0.736884\n",
       "4441688    74164    74200 -0.832258 -0.606803 -0.645281      -0.655931\n",
       "4441689    74194    74200 -0.723540 -0.602545 -0.031590      -0.702125\n",
       "\n",
       "[4441690 rows x 6 columns]"
      ]
     },
     "execution_count": 205,
     "metadata": {},
     "output_type": "execute_result"
    }
   ],
   "source": [
    "scaler = StandardScaler()\n",
    "data[target_columns] = scaler.fit_transform(data[target_columns])\n",
    "data"
   ]
  },
  {
   "cell_type": "code",
   "execution_count": 206,
   "id": "coordinate-tours",
   "metadata": {},
   "outputs": [
    {
     "data": {
      "text/plain": [
       "array([3344.38911195,  163.51167765,  204.32756094,  201.2060787 ])"
      ]
     },
     "execution_count": 206,
     "metadata": {},
     "output_type": "execute_result"
    }
   ],
   "source": [
    "scaler.mean_"
   ]
  },
  {
   "cell_type": "code",
   "execution_count": 220,
   "id": "heavy-melbourne",
   "metadata": {},
   "outputs": [
    {
     "data": {
      "text/html": [
       "<div>\n",
       "<style scoped>\n",
       "    .dataframe tbody tr th:only-of-type {\n",
       "        vertical-align: middle;\n",
       "    }\n",
       "\n",
       "    .dataframe tbody tr th {\n",
       "        vertical-align: top;\n",
       "    }\n",
       "\n",
       "    .dataframe thead th {\n",
       "        text-align: right;\n",
       "    }\n",
       "</style>\n",
       "<table border=\"1\" class=\"dataframe\">\n",
       "  <thead>\n",
       "    <tr style=\"text-align: right;\">\n",
       "      <th></th>\n",
       "      <th>energia</th>\n",
       "      <th>grasa</th>\n",
       "      <th>proteina</th>\n",
       "      <th>carbohidratos</th>\n",
       "    </tr>\n",
       "  </thead>\n",
       "  <tbody>\n",
       "    <tr>\n",
       "      <th>0</th>\n",
       "      <td>1000</td>\n",
       "      <td>100</td>\n",
       "      <td>80</td>\n",
       "      <td>15</td>\n",
       "    </tr>\n",
       "  </tbody>\n",
       "</table>\n",
       "</div>"
      ],
      "text/plain": [
       "   energia  grasa  proteina  carbohidratos\n",
       "0     1000    100        80             15"
      ]
     },
     "execution_count": 220,
     "metadata": {},
     "output_type": "execute_result"
    }
   ],
   "source": [
    "df = pd.DataFrame([[1000, 100, 80, 15]],columns=target_columns)\n",
    "df"
   ]
  },
  {
   "cell_type": "code",
   "execution_count": 221,
   "id": "apart-adaptation",
   "metadata": {},
   "outputs": [
    {
     "data": {
      "text/html": [
       "<div>\n",
       "<style scoped>\n",
       "    .dataframe tbody tr th:only-of-type {\n",
       "        vertical-align: middle;\n",
       "    }\n",
       "\n",
       "    .dataframe tbody tr th {\n",
       "        vertical-align: top;\n",
       "    }\n",
       "\n",
       "    .dataframe thead th {\n",
       "        text-align: right;\n",
       "    }\n",
       "</style>\n",
       "<table border=\"1\" class=\"dataframe\">\n",
       "  <thead>\n",
       "    <tr style=\"text-align: right;\">\n",
       "      <th></th>\n",
       "      <th>energia</th>\n",
       "      <th>grasa</th>\n",
       "      <th>proteina</th>\n",
       "      <th>carbohidratos</th>\n",
       "    </tr>\n",
       "  </thead>\n",
       "  <tbody>\n",
       "    <tr>\n",
       "      <th>0</th>\n",
       "      <td>-0.93911</td>\n",
       "      <td>-0.531425</td>\n",
       "      <td>-0.533359</td>\n",
       "      <td>-1.071159</td>\n",
       "    </tr>\n",
       "  </tbody>\n",
       "</table>\n",
       "</div>"
      ],
      "text/plain": [
       "   energia     grasa  proteina  carbohidratos\n",
       "0 -0.93911 -0.531425 -0.533359      -1.071159"
      ]
     },
     "execution_count": 221,
     "metadata": {},
     "output_type": "execute_result"
    }
   ],
   "source": [
    "df[target_columns] = scaler.transform(df[target_columns])\n",
    "df"
   ]
  },
  {
   "cell_type": "code",
   "execution_count": 222,
   "id": "characteristic-intro",
   "metadata": {},
   "outputs": [
    {
     "data": {
      "text/plain": [
       "array([[-0.9391101 , -0.53142549, -0.68350687, -1.07115918]])"
      ]
     },
     "execution_count": 222,
     "metadata": {},
     "output_type": "execute_result"
    }
   ],
   "source": [
    "result = scaler.transform([[1000, 100, 45, 15]])\n",
    "result\n"
   ]
  },
  {
   "cell_type": "code",
   "execution_count": 219,
   "id": "hired-things",
   "metadata": {},
   "outputs": [],
   "source": [
    "target_values = np.array([1000, 100, 80, 15])\n",
    "target_columns = [\"energia\",\"grasa\",'proteina',\"carbohidratos\"]"
   ]
  },
  {
   "cell_type": "code",
   "execution_count": 228,
   "id": "toxic-subcommittee",
   "metadata": {},
   "outputs": [],
   "source": [
    "def getClosest(target_values):\n",
    "    objetivos = scaler.transform([target_values])\n",
    "    eucl_dist = euclidean_distances(objetivos, data[target_columns].values).reshape(-1) #NP Con las distancias al objetivo\n",
    "    ind_min_ed = (np.where(eucl_dist == np.amin(eucl_dist)))[0] #indice de la combinacion con menor distancia\n",
    "    ind_comida = int(data.iloc[int(ind_min_ed)]['Recipe1']) #indices de las recetas 1 y 2 de la combinación\n",
    "    ind_cena = int(data.iloc[int(ind_min_ed)]['Recipe2'])\n",
    "    return ind_min_ed, ind_comida, ind_cena\n",
    "\n",
    "def getClosest2(target_values):\n",
    "    objetivos = scaler.transform([target_values])\n",
    "    data['distance'] = euclidean_distances(objetivos, data_values.values).reshape(-1)\n",
    "    ids = data.nsmallest(1, 'distance')[['Recipe1','Recipe2']]\n",
    "    return ind_min_ed, ids\n",
    "\n",
    "def getClosest3(target_values):\n",
    "    data['distance'] = data.apply(lambda row: euclidean_distances(scaler.transform([target_values]), data_values.values).reshape(-1))\n",
    "    ids = data.nsmallest(1, 'distance')[['Recipe1','Recipe2']]\n",
    "    return ind_min_ed, ids"
   ]
  },
  {
   "cell_type": "code",
   "execution_count": 226,
   "id": "dress-homework",
   "metadata": {},
   "outputs": [
    {
     "name": "stdout",
     "output_type": "stream",
     "text": [
      "237 ms ± 13.9 ms per loop (mean ± std. dev. of 7 runs, 1 loop each)\n"
     ]
    }
   ],
   "source": [
    "%%timeit\n",
    "getClosest(target_values) # numpy"
   ]
  },
  {
   "cell_type": "code",
   "execution_count": 227,
   "id": "limited-modem",
   "metadata": {},
   "outputs": [
    {
     "name": "stdout",
     "output_type": "stream",
     "text": [
      "559 ms ± 17.2 ms per loop (mean ± std. dev. of 7 runs, 1 loop each)\n"
     ]
    }
   ],
   "source": [
    "%%timeit\n",
    "getClosest2(target_values) # creando una columna pero usando numpy"
   ]
  },
  {
   "cell_type": "code",
   "execution_count": 229,
   "id": "varying-spring",
   "metadata": {},
   "outputs": [
    {
     "name": "stdout",
     "output_type": "stream",
     "text": [
      "1.63 s ± 63.3 ms per loop (mean ± std. dev. of 7 runs, 1 loop each)\n"
     ]
    }
   ],
   "source": [
    "%%timeit\n",
    "getClosest3(target_values) # con apply"
   ]
  },
  {
   "cell_type": "code",
   "execution_count": 231,
   "id": "third-transparency",
   "metadata": {},
   "outputs": [
    {
     "data": {
      "text/plain": [
       "50782"
      ]
     },
     "execution_count": 231,
     "metadata": {},
     "output_type": "execute_result"
    }
   ],
   "source": [
    "objetivos = scaler.transform([target_values])\n",
    "eucl_dist = euclidean_distances(objetivos, data[target_columns].values).reshape(-1) #NP Con las distancias al objetivo\n",
    "ind_min_ed = (np.where(eucl_dist == np.amin(eucl_dist)))[0] #indice de la combinacion con menor distancia\n",
    "ind_comida = int(data.iloc[int(ind_min_ed)]['Recipe1']) #indices de las recetas 1 y 2 de la combinación\n",
    "ind_cena = int(data.iloc[int(ind_min_ed)]['Recipe2'])\n",
    "ind_cena"
   ]
  },
  {
   "cell_type": "code",
   "execution_count": 250,
   "id": "lasting-holder",
   "metadata": {},
   "outputs": [
    {
     "data": {
      "text/plain": [
       "Recipe1     7550\n",
       "Recipe2    50782\n",
       "Name: 119074, dtype: int64"
      ]
     },
     "execution_count": 250,
     "metadata": {},
     "output_type": "execute_result"
    }
   ],
   "source": [
    "data[['Recipe1','Recipe2']].iloc[int(ind_min_ed)]"
   ]
  },
  {
   "cell_type": "code",
   "execution_count": 252,
   "id": "trained-motivation",
   "metadata": {},
   "outputs": [
    {
     "data": {
      "text/plain": [
       "[7550, 50782]"
      ]
     },
     "execution_count": 252,
     "metadata": {},
     "output_type": "execute_result"
    }
   ],
   "source": [
    "list(data[['Recipe1','Recipe2']].iloc[int(ind_min_ed)])"
   ]
  },
  {
   "cell_type": "code",
   "execution_count": null,
   "id": "understanding-selection",
   "metadata": {},
   "outputs": [],
   "source": []
  }
 ],
 "metadata": {
  "kernelspec": {
   "display_name": "Python 3",
   "language": "python",
   "name": "python3"
  },
  "language_info": {
   "codemirror_mode": {
    "name": "ipython",
    "version": 3
   },
   "file_extension": ".py",
   "mimetype": "text/x-python",
   "name": "python",
   "nbconvert_exporter": "python",
   "pygments_lexer": "ipython3",
   "version": "3.9.2"
  }
 },
 "nbformat": 4,
 "nbformat_minor": 5
}
