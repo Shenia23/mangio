{
 "cells": [
  {
   "cell_type": "code",
   "execution_count": 21,
   "id": "deadly-protocol",
   "metadata": {},
   "outputs": [],
   "source": [
    "import os\n",
    "import sys\n",
    "module_path = os.path.abspath(os.path.join('..'))\n",
    "if module_path not in sys.path:\n",
    "    sys.path.append(module_path)\n",
    "    \n",
    "from app.data_processing.utils import *"
   ]
  },
  {
   "cell_type": "code",
   "execution_count": 2,
   "id": "occupied-cooling",
   "metadata": {},
   "outputs": [],
   "source": [
    "import pandas as pd\n",
    "import pattern.es as es\n",
    "import regex as re"
   ]
  },
  {
   "cell_type": "code",
   "execution_count": 13,
   "id": "united-filter",
   "metadata": {},
   "outputs": [],
   "source": [
    "fr = pd.read_csv('../data/peso_frutas.csv')\n",
    "vr = pd.read_csv('../data/peso_hortalizas.csv')\n",
    "bedca = pd.read_csv('../data/bedca.csv',index_col=0)"
   ]
  },
  {
   "cell_type": "code",
   "execution_count": 24,
   "id": "finished-banana",
   "metadata": {},
   "outputs": [],
   "source": [
    "bedca_ingredients = bedca[\"nombre\"].tolist()\n",
    "bedca_ingredients = [x.lower() for x in bedca_ingredients]\n",
    "bedca_ingredients = ingredients_to_plural(bedca_ingredients) "
   ]
  },
  {
   "cell_type": "code",
   "execution_count": 14,
   "id": "hired-spanking",
   "metadata": {},
   "outputs": [],
   "source": [
    "fr = fr.drop('Peso bruto (g)',axis=1)"
   ]
  },
  {
   "cell_type": "code",
   "execution_count": 15,
   "id": "stunning-geology",
   "metadata": {},
   "outputs": [],
   "source": [
    "vg = fr.append(vr)"
   ]
  },
  {
   "cell_type": "code",
   "execution_count": 16,
   "id": "million-response",
   "metadata": {},
   "outputs": [],
   "source": [
    "vg['Alimento'] = vg['Alimento'].apply(es.singularize)"
   ]
  },
  {
   "cell_type": "code",
   "execution_count": 22,
   "id": "arbitrary-greene",
   "metadata": {},
   "outputs": [],
   "source": [
    "def get_numeric_value(row):\n",
    "    numbers = [word for word in row.split() if word.isdigit()]\n",
    "    if len(numbers) > 0:\n",
    "        return int(numbers[0])\n",
    "    return None\n",
    "\n",
    "def set_bedca_name(row):\n",
    "    ext = extract_ingredient(row,bedca_ingredients)\n",
    "    if ext != \"None\":\n",
    "        return ext\n",
    "    else:\n",
    "        return row"
   ]
  },
  {
   "cell_type": "code",
   "execution_count": 25,
   "id": "warming-magic",
   "metadata": {},
   "outputs": [],
   "source": [
    "vg['Numero'] = vg['Medida'].apply(get_numeric_value)\n",
    "vg['Alimento'] = vg['Alimento'].apply(set_bedca_name)\n",
    "vg['Peso x Unidad'] = vg['Peso neto (g)'].divide(vg['Numero'])\n",
    "vg.rename(columns={'Alimento': 'Ingrediente'}, inplace=True)"
   ]
  },
  {
   "cell_type": "code",
   "execution_count": 12,
   "id": "northern-waterproof",
   "metadata": {},
   "outputs": [],
   "source": [
    "vg.to_csv('../data/pesos_vegetales.csv', index=False)"
   ]
  },
  {
   "cell_type": "code",
   "execution_count": null,
   "id": "better-carnival",
   "metadata": {},
   "outputs": [],
   "source": []
  }
 ],
 "metadata": {
  "kernelspec": {
   "display_name": "Python 3",
   "language": "python",
   "name": "python3"
  },
  "language_info": {
   "codemirror_mode": {
    "name": "ipython",
    "version": 3
   },
   "file_extension": ".py",
   "mimetype": "text/x-python",
   "name": "python",
   "nbconvert_exporter": "python",
   "pygments_lexer": "ipython3",
   "version": "3.9.2"
  }
 },
 "nbformat": 4,
 "nbformat_minor": 5
}
